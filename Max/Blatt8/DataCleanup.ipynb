{
 "cells": [
  {
   "cell_type": "code",
   "execution_count": 88,
   "metadata": {
    "collapsed": true
   },
   "outputs": [],
   "source": [
    "import sklearn as sk\n",
    "import sklearn.covariance as cov\n",
    "import pandas as pd\n",
    "import numpy as np\n",
    "import ggplot as gg"
   ]
  },
  {
   "cell_type": "code",
   "execution_count": 89,
   "metadata": {
    "collapsed": true
   },
   "outputs": [],
   "source": [
    "import sklearn.preprocessing as pre\n",
    "from DataFrameImputer import DataFrameImputer"
   ]
  },
  {
   "cell_type": "code",
   "execution_count": 90,
   "metadata": {
    "collapsed": false
   },
   "outputs": [],
   "source": [
    "# Import and replace NaNs with most frequent value for labels and mean for numericals\n",
    "train_original = pd.DataFrame.from_csv(\"train.csv\")\n",
    "test_original = pd.DataFrame.from_csv(\"test.csv\")\n",
    "lenght_train = len(train_original)\n",
    "total = train_original.append(test_original)\n",
    "total['SalePrice'] = total['SalePrice'].fillna(value=0) # don't impute price of the test data\n",
    "\n",
    "total_dframe = DataFrameImputer().fit_transform(total)"
   ]
  },
  {
   "cell_type": "code",
   "execution_count": 91,
   "metadata": {
    "collapsed": false
   },
   "outputs": [
    {
     "ename": "Exception",
     "evalue": "Invalid column: ''\ndid you mean one of the following:\n",
     "output_type": "error",
     "traceback": [
      "\u001b[0;31m---------------------------------------------------------------------------\u001b[0m",
      "\u001b[0;31mSyntaxError\u001b[0m                               Traceback (most recent call last)",
      "\u001b[0;32m/home/jean/.local/anaconda3/lib/python3.5/site-packages/ggplot/aes.py\u001b[0m in \u001b[0;36m_evaluate_expressions\u001b[0;34m(self, data)\u001b[0m\n\u001b[1;32m    101\u001b[0m                 \u001b[0;32mtry\u001b[0m\u001b[0;34m:\u001b[0m\u001b[0;34m\u001b[0m\u001b[0m\n\u001b[0;32m--> 102\u001b[0;31m                     \u001b[0mnew_val\u001b[0m \u001b[0;34m=\u001b[0m \u001b[0menv\u001b[0m\u001b[0;34m.\u001b[0m\u001b[0meval\u001b[0m\u001b[0;34m(\u001b[0m\u001b[0mitem\u001b[0m\u001b[0;34m,\u001b[0m \u001b[0minner_namespace\u001b[0m\u001b[0;34m=\u001b[0m\u001b[0mdata\u001b[0m\u001b[0;34m)\u001b[0m\u001b[0;34m\u001b[0m\u001b[0m\n\u001b[0m\u001b[1;32m    103\u001b[0m                     \u001b[0mdata\u001b[0m\u001b[0;34m[\u001b[0m\u001b[0mitem\u001b[0m\u001b[0;34m]\u001b[0m \u001b[0;34m=\u001b[0m \u001b[0mnew_val\u001b[0m\u001b[0;34m\u001b[0m\u001b[0m\n",
      "\u001b[0;32m/home/jean/.local/anaconda3/lib/python3.5/site-packages/patsy/eval.py\u001b[0m in \u001b[0;36meval\u001b[0;34m(self, expr, source_name, inner_namespace)\u001b[0m\n\u001b[1;32m    163\u001b[0m         \"\"\"\n\u001b[0;32m--> 164\u001b[0;31m         \u001b[0mcode\u001b[0m \u001b[0;34m=\u001b[0m \u001b[0mcompile\u001b[0m\u001b[0;34m(\u001b[0m\u001b[0mexpr\u001b[0m\u001b[0;34m,\u001b[0m \u001b[0msource_name\u001b[0m\u001b[0;34m,\u001b[0m \u001b[0;34m\"eval\"\u001b[0m\u001b[0;34m,\u001b[0m \u001b[0mself\u001b[0m\u001b[0;34m.\u001b[0m\u001b[0mflags\u001b[0m\u001b[0;34m,\u001b[0m \u001b[0;32mFalse\u001b[0m\u001b[0;34m)\u001b[0m\u001b[0;34m\u001b[0m\u001b[0m\n\u001b[0m\u001b[1;32m    165\u001b[0m         return eval(code, {}, VarLookupDict([inner_namespace]\n",
      "\u001b[0;31mSyntaxError\u001b[0m: unexpected EOF while parsing (<string>, line 0)",
      "\nDuring handling of the above exception, another exception occurred:\n",
      "\u001b[0;31mException\u001b[0m                                 Traceback (most recent call last)",
      "\u001b[0;32m<ipython-input-91-de30d2b35382>\u001b[0m in \u001b[0;36m<module>\u001b[0;34m()\u001b[0m\n\u001b[0;32m----> 1\u001b[0;31m \u001b[0mgg\u001b[0m\u001b[0;34m.\u001b[0m\u001b[0mggplot\u001b[0m\u001b[0;34m(\u001b[0m\u001b[0mtrain_original\u001b[0m\u001b[0;34m,\u001b[0m \u001b[0mgg\u001b[0m\u001b[0;34m.\u001b[0m\u001b[0maes\u001b[0m\u001b[0;34m(\u001b[0m\u001b[0my\u001b[0m\u001b[0;34m=\u001b[0m\u001b[0;34m'SalePrice'\u001b[0m\u001b[0;34m,\u001b[0m\u001b[0mx\u001b[0m\u001b[0;34m=\u001b[0m\u001b[0;34m''\u001b[0m\u001b[0;34m)\u001b[0m\u001b[0;34m)\u001b[0m \u001b[0;34m+\u001b[0m  \u001b[0mgg\u001b[0m\u001b[0;34m.\u001b[0m\u001b[0mgeom_boxplot\u001b[0m\u001b[0;34m(\u001b[0m\u001b[0;34m)\u001b[0m\u001b[0;34m\u001b[0m\u001b[0m\n\u001b[0m",
      "\u001b[0;32m/home/jean/.local/anaconda3/lib/python3.5/site-packages/ggplot/ggplot.py\u001b[0m in \u001b[0;36m__init__\u001b[0;34m(self, aesthetics, data)\u001b[0m\n\u001b[1;32m     54\u001b[0m         \u001b[0mself\u001b[0m\u001b[0;34m.\u001b[0m\u001b[0mdata\u001b[0m \u001b[0;34m=\u001b[0m \u001b[0mdata\u001b[0m\u001b[0;34m.\u001b[0m\u001b[0mcopy\u001b[0m\u001b[0;34m(\u001b[0m\u001b[0;34m)\u001b[0m\u001b[0;34m\u001b[0m\u001b[0m\n\u001b[1;32m     55\u001b[0m         \u001b[0mself\u001b[0m\u001b[0;34m.\u001b[0m\u001b[0m_handle_index\u001b[0m\u001b[0;34m(\u001b[0m\u001b[0;34m)\u001b[0m\u001b[0;34m\u001b[0m\u001b[0m\n\u001b[0;32m---> 56\u001b[0;31m         \u001b[0mself\u001b[0m\u001b[0;34m.\u001b[0m\u001b[0mdata\u001b[0m \u001b[0;34m=\u001b[0m \u001b[0mself\u001b[0m\u001b[0;34m.\u001b[0m\u001b[0m_aes\u001b[0m\u001b[0;34m.\u001b[0m\u001b[0m_evaluate_expressions\u001b[0m\u001b[0;34m(\u001b[0m\u001b[0mself\u001b[0m\u001b[0;34m.\u001b[0m\u001b[0mdata\u001b[0m\u001b[0;34m)\u001b[0m\u001b[0;34m\u001b[0m\u001b[0m\n\u001b[0m\u001b[1;32m     57\u001b[0m         \u001b[0mself\u001b[0m\u001b[0;34m.\u001b[0m\u001b[0mdata\u001b[0m \u001b[0;34m=\u001b[0m \u001b[0mself\u001b[0m\u001b[0;34m.\u001b[0m\u001b[0m_aes\u001b[0m\u001b[0;34m.\u001b[0m\u001b[0mhandle_identity_values\u001b[0m\u001b[0;34m(\u001b[0m\u001b[0mself\u001b[0m\u001b[0;34m.\u001b[0m\u001b[0mdata\u001b[0m\u001b[0;34m)\u001b[0m\u001b[0;34m\u001b[0m\u001b[0m\n\u001b[1;32m     58\u001b[0m \u001b[0;34m\u001b[0m\u001b[0m\n",
      "\u001b[0;32m/home/jean/.local/anaconda3/lib/python3.5/site-packages/ggplot/aes.py\u001b[0m in \u001b[0;36m_evaluate_expressions\u001b[0;34m(self, data)\u001b[0m\n\u001b[1;32m    108\u001b[0m                     \u001b[0;32mfor\u001b[0m \u001b[0mmatch\u001b[0m \u001b[0;32min\u001b[0m \u001b[0mmatches\u001b[0m\u001b[0;34m:\u001b[0m\u001b[0;34m\u001b[0m\u001b[0m\n\u001b[1;32m    109\u001b[0m                         \u001b[0mmsg\u001b[0m \u001b[0;34m+=\u001b[0m \u001b[0;34m\"    - %s\\n\"\u001b[0m \u001b[0;34m%\u001b[0m \u001b[0mmatch\u001b[0m\u001b[0;34m\u001b[0m\u001b[0m\n\u001b[0;32m--> 110\u001b[0;31m                     \u001b[0;32mraise\u001b[0m \u001b[0mException\u001b[0m\u001b[0;34m(\u001b[0m\u001b[0mmsg\u001b[0m\u001b[0;34m)\u001b[0m\u001b[0;34m\u001b[0m\u001b[0m\n\u001b[0m\u001b[1;32m    111\u001b[0m         \u001b[0;32mreturn\u001b[0m \u001b[0mdata\u001b[0m\u001b[0;34m\u001b[0m\u001b[0m\n\u001b[1;32m    112\u001b[0m \u001b[0;34m\u001b[0m\u001b[0m\n",
      "\u001b[0;31mException\u001b[0m: Invalid column: ''\ndid you mean one of the following:\n"
     ]
    }
   ],
   "source": [
    "gg.ggplot(train_original, gg.aes(y='SalePrice',x='')) +  gg.geom_boxplot()"
   ]
  },
  {
   "cell_type": "code",
   "execution_count": 92,
   "metadata": {
    "collapsed": true
   },
   "outputs": [],
   "source": [
    "# Nachbarschaft\n",
    "nbh_score = {None: 0, \"CollgCr\": 2, \"Veenker\": 2, \"Crawfor\": 2, \"NoRidge\": 3, \"Mitchel\": 1, \"Somerst\":2, \"NWAmes\":2 , \"OldTown\":1, \"BrkSide\":1, \"Sawyer\":1, \"NridgHt\":3, \"NAmes\":1 , \"SawyerW\":2 , \"IDOTRR\":1, \"MeadowV\":1, \"Edwards\":1, \"Timber\":2, \"Gilbert\":2, \"StoneBr\":3 , \"ClearCr\":2, \"NPkVill\":1, \"Blmngtn\":2, \"BrDale\":1 , \"SWISU\":1, \"Blueste\":1}\n",
    "\n",
    "total_dframe['nbh_score'] = total_dframe['Neighborhood'].map(nbh_score)"
   ]
  },
  {
   "cell_type": "code",
   "execution_count": 93,
   "metadata": {
    "collapsed": false
   },
   "outputs": [],
   "source": [
    "# Data Generation\n",
    "loudness_zoning = {'A': 1,#Agriculture\n",
    "       'C': 5,#Commercial\n",
    "       'C (all)': 5, #Fuck-up            \n",
    "       'FV': 3,#Floating Village Residential\n",
    "       'I': 7,#Industrial\n",
    "       'RH': 5,#Residential High Density\n",
    "       'RL': 4,#Residential Low Density\n",
    "       'RP': 2,#Residential Low Density Park \n",
    "       'RM': 5,#Residential Medium Density\n",
    "                 }\n",
    "\n",
    "loudness_condition = {\n",
    "    'Artery':4 ,   #Adjacent to arterial street\n",
    "       'Feedr':2 ,    # Adjacent to feeder street   \n",
    "       'Norm':0 ,     #  Normal \n",
    "       'RRNn':2 ,     #Within 200' of North-South Railroad\n",
    "       'RRAn':2 ,     #Adjacent to North-South Railroad\n",
    "       'PosN':-2 ,     #Near positive off-site feature--park, greenbelt, etc.\n",
    "       'PosA':-4 ,     #Adjacent to postive off-site feature\n",
    "       'RRNe':2 ,     #Within 200' of East-West Railroad\n",
    "       'RRAe':2 ,     #Adjacent to East-West Railroad\n",
    "}\n",
    "\n",
    "loudness_fence = {\n",
    "     'GdPrv': 1,\t#Good Privacy\n",
    "       'MnPrv': 0,\t#Minimum Privacy\n",
    "       'GdWo': 0,\t#Good Wood\n",
    "       'MnWw': 0,\t#Minimum Wood/Wire\n",
    "       'NA': 0,\t#No Fence\n",
    "}\n",
    "\n",
    "total_dframe['gen_loudness'] = total_dframe['Fence'].map(loudness_fence) + total_dframe['MSZoning'].map(loudness_zoning)+total_dframe['Condition1'].map(loudness_condition)+total_dframe['Condition2'].map(loudness_condition)"
   ]
  },
  {
   "cell_type": "code",
   "execution_count": 94,
   "metadata": {
    "collapsed": true
   },
   "outputs": [],
   "source": [
    "transportation_score = {\n",
    "     'Artery': 2,   #Adjacent to arterial street\n",
    "       'Feedr': 1,    # Adjacent to feeder street   \n",
    "       'Norm': 0,     #  Normal \n",
    "       'RRNn': 1,     #Within 200' of North-South Railroad\n",
    "       'RRAn': 2,     #Adjacent to North-South Railroad\n",
    "       'PosN': 0,     #Near positive off-site feature--park, greenbelt, etc.\n",
    "       'PosA': 0,     #Adjacent to postive off-site feature\n",
    "       'RRNe': 1,     #Within 200' of East-West Railroad\n",
    "       'RRAe': 2,     #Adjacent to East-West Railroad\n",
    "}\n",
    "total_dframe['gen_transport'] = total_dframe['Condition1'].map(transportation_score) + total_dframe['Condition2'].map(transportation_score)"
   ]
  },
  {
   "cell_type": "code",
   "execution_count": 95,
   "metadata": {
    "collapsed": true
   },
   "outputs": [],
   "source": [
    "type_score = {\n",
    "        'WD': 0, #Warranty Deed - Conventional\n",
    "       'CWD': 0,\t#Warranty Deed - Cash\n",
    "       'VWD': 0,\t#Warranty Deed - VA Loan\n",
    "       'New': 4,\t#Home just constructed and sold\n",
    "       'COD': 0,\t#Court Officer Deed/Estate\n",
    "       'Con': 2,\t#Contract 15% Down payment regular terms\n",
    "       'ConLw': 1,\t#Contract Low Down payment and low interest\n",
    "       'ConLI': 1,\t#Contract Low Interest\n",
    "       'ConLD': 1,\t#Contract Low Down\n",
    "       'Oth': 0,\t#Other\n",
    "}\n",
    "\n",
    "condition_score = {\n",
    "        'Normal': 0,\t#Normal Sale\n",
    "       'Abnorml': -1,\t#Abnormal Sale -  trade, foreclosure, short sale\n",
    "       'AdjLand':-1 ,\t#Adjoining Land Purchase\n",
    "       'Alloca': 0,\t#Allocation - two linked properties with separate deeds, typically condo with a garage unit\t\n",
    "       'Family': -1,\t#Sale between family members\n",
    "       'Partial': 2,\t#Home was not completed when last assessed (associated with New Homes)\n",
    "}\n",
    "\n",
    "total_dframe['gen_discount'] = total_dframe['SaleType'].map(type_score) + total_dframe['SaleCondition'].map(condition_score)"
   ]
  },
  {
   "cell_type": "code",
   "execution_count": 96,
   "metadata": {
    "collapsed": true
   },
   "outputs": [],
   "source": [
    "park_score = {\n",
    "     'Artery': -1,   #Adjacent to arterial street\n",
    "       'Feedr': -1,    # Adjacent to feeder street   \n",
    "       'Norm': 0,     #  Normal \n",
    "       'RRNn': 0,     #Within 200' of North-South Railroad\n",
    "       'RRAn': -1,     #Adjacent to North-South Railroad\n",
    "       'PosN': 1,     #Near positive off-site feature--park, greenbelt, etc.\n",
    "       'PosA': 2,     #Adjacent to postive off-site feature\n",
    "       'RRNe': 0,     #Within 200' of East-West Railroad\n",
    "       'RRAe': -1,     #Adjacent to East-West Railroad\n",
    "}\n",
    "\n",
    "total_dframe['gen_parkness'] = total_dframe['Condition1'].map(park_score) + total_dframe['Condition2'].map(park_score)"
   ]
  },
  {
   "cell_type": "code",
   "execution_count": 97,
   "metadata": {
    "collapsed": false
   },
   "outputs": [],
   "source": [
    "total_dframe['gen_total_porch'] = total_dframe['OpenPorchSF']*0.7 + total_dframe['EnclosedPorch']+ total_dframe['3SsnPorch']*1.2+total_dframe['ScreenPorch']"
   ]
  },
  {
   "cell_type": "code",
   "execution_count": 98,
   "metadata": {
    "collapsed": true
   },
   "outputs": [],
   "source": [
    "def ascending(set, na=None):\n",
    "    types = zip(set, range(1, len(set) + 1))\n",
    "\n",
    "    if na != None:  # if there is a 'not appllicable' classification, generate an array with a 'has' and 'label' quality\n",
    "        types = map(lambda x: [x[0], 1, x[1]], types)\n",
    "        types.append([na, 0, 0])\n",
    "\n",
    "    return dict(types)"
   ]
  },
  {
   "cell_type": "code",
   "execution_count": 99,
   "metadata": {
    "collapsed": true
   },
   "outputs": [],
   "source": [
    "# Label Properties\n",
    "unneccessary = ['TotalBsmtSF', 'TotRmsAbvGrd']\n",
    "\n",
    "special = ['MoSold', 'YrSold','SalePrice']\n",
    "\n",
    "already_numerical = ['nbh_score','LotFrontage', 'LotArea', 'YearBuilt', 'YearRemodAdd', 'MasVnrArea',\n",
    "                     'BsmtFinSF1', 'BsmtFinSF2', 'BsmtUnfSF', 'TotalBsmtSF', '1stFlrSF', '2ndFlrSF', \n",
    "                     'LowQualFinSF', 'GrLivArea', 'BsmtFullBath', 'BsmtHalfBath', 'FullBath', 'HalfBath', \n",
    "                     'BedroomAbvGr', 'KitchenAbvGr', 'TotRmsAbvGrd', 'Fireplaces', 'GarageYrBlt', 'GarageCars', \n",
    "                     'GarageArea', 'WoodDeckSF',\n",
    "                     'OpenPorchSF', 'EnclosedPorch', '3SsnPorch', 'ScreenPorch', 'PoolArea', 'MiscVal','OverallQual', 'OverallCond',\n",
    "                    'gen_discount','gen_transport','gen_loudness', 'gen_total_porch', 'gen_parkness']\n",
    "\n",
    "default = ['Ex', 'Gd', 'TA', 'Fa', 'Po']\n",
    "ordered = {\n",
    "    'LandContour': ['Low', 'Lvl', 'Bnk', 'HLS'],\n",
    "    'Utilities': ['AllPub', 'NoSewr', 'NoSeWa', 'ELO'],\n",
    "    'LandSlope': ['Gtl', 'Mod', 'Sev'],\n",
    "    'ExterQual': default,\n",
    "    'ExterCond': default,\n",
    "    'BsmtQual': default,  # has an NA\n",
    "    'BsmtCond': default,  # has an NA\n",
    "    'BsmtExposure': ['Gd', 'Av', 'Mn', 'No'],  # has an NA\n",
    "    'BsmtFinType1': ['GLQ', 'ALQ', 'BLQ', 'Rec', 'LwQ', 'Unf'],  # NA\n",
    "    'BsmtFinType2': ['GLQ', 'ALQ', 'BLQ', 'Rec', 'LwQ', 'Unf'],\n",
    "    'HeatingQC': default,\n",
    "    'KitchenQual': default,\n",
    "    'Functional': ['Typ', 'Min1', 'Min2', 'Mod', 'Maj1', 'Maj2', 'Sev', 'Sal'],\n",
    "    'FireplaceQu': default,  # NA\n",
    "    'GarageFinish': ['Fin', 'RFn', 'Unf'],  # NA\n",
    "    'GarageQual': default,  # NA\n",
    "    'GarageCond': default,  # NA\n",
    "    'PavedDrive': ['Y', 'P', 'N'],\n",
    "    'PoolQC': default,  # NA\n",
    "    'Fence': ['GdPrv', 'MnPrv', 'GdWo', 'MnWw', 'NA'],\n",
    "}\n",
    "\n",
    "unordered = ['MSSubClass', 'MSZoning', 'Street', 'Alley', 'LotShape', 'LotConfig', \n",
    "\n",
    "              'Condition1', 'Condition2', 'BldgType', 'HouseStyle',\n",
    "             'RoofStyle', 'RoofMatl', 'Exterior1st', 'Exterior2nd', 'MasVnrType',\n",
    "             'Foundation', 'Heating', 'CentralAir', 'Electrical', 'GarageType', 'MiscFeature', 'SaleType', 'SaleCondition'\n",
    "             ]\n",
    "\n",
    "# gone: 'Neighborhood',"
   ]
  },
  {
   "cell_type": "code",
   "execution_count": 100,
   "metadata": {
    "collapsed": false
   },
   "outputs": [],
   "source": [
    "# check for all colummns\n",
    "assert set.intersection(set(already_numerical),set(ordered.keys())) == set()\n",
    "assert set.intersection(set(unordered),set(ordered.keys())) == set()\n",
    "assert set.intersection(set(unordered),set(already_numerical)) == set()"
   ]
  },
  {
   "cell_type": "code",
   "execution_count": 101,
   "metadata": {
    "collapsed": false
   },
   "outputs": [
    {
     "ename": "AssertionError",
     "evalue": "",
     "output_type": "error",
     "traceback": [
      "\u001b[0;31m---------------------------------------------------------------------------\u001b[0m",
      "\u001b[0;31mAssertionError\u001b[0m                            Traceback (most recent call last)",
      "\u001b[0;32m<ipython-input-101-4feca5f7faeb>\u001b[0m in \u001b[0;36m<module>\u001b[0;34m()\u001b[0m\n\u001b[1;32m      1\u001b[0m \u001b[0mall_columns\u001b[0m \u001b[0;34m=\u001b[0m \u001b[0mset\u001b[0m\u001b[0;34m(\u001b[0m\u001b[0munneccessary\u001b[0m \u001b[0;34m+\u001b[0m \u001b[0mspecial\u001b[0m \u001b[0;34m+\u001b[0m \u001b[0malready_numerical\u001b[0m \u001b[0;34m+\u001b[0m \u001b[0mlist\u001b[0m\u001b[0;34m(\u001b[0m\u001b[0mordered\u001b[0m\u001b[0;34m.\u001b[0m\u001b[0mkeys\u001b[0m\u001b[0;34m(\u001b[0m\u001b[0;34m)\u001b[0m\u001b[0;34m)\u001b[0m \u001b[0;34m+\u001b[0m \u001b[0munordered\u001b[0m\u001b[0;34m)\u001b[0m\u001b[0;34m\u001b[0m\u001b[0m\n\u001b[0;32m----> 2\u001b[0;31m \u001b[0;32massert\u001b[0m \u001b[0mall_columns\u001b[0m\u001b[0;34m.\u001b[0m\u001b[0msymmetric_difference\u001b[0m\u001b[0;34m(\u001b[0m\u001b[0mset\u001b[0m\u001b[0;34m(\u001b[0m\u001b[0mtotal_dframe\u001b[0m\u001b[0;34m.\u001b[0m\u001b[0mcolumns\u001b[0m\u001b[0;34m)\u001b[0m\u001b[0;34m)\u001b[0m\u001b[0;34m==\u001b[0m\u001b[0mset\u001b[0m\u001b[0;34m(\u001b[0m\u001b[0;34m)\u001b[0m\u001b[0;34m\u001b[0m\u001b[0m\n\u001b[0m",
      "\u001b[0;31mAssertionError\u001b[0m: "
     ]
    }
   ],
   "source": [
    "all_columns = set(unneccessary + special + already_numerical + list(ordered.keys()) + unordered)\n",
    "assert all_columns.symmetric_difference(set(total_dframe.columns))==set()"
   ]
  },
  {
   "cell_type": "code",
   "execution_count": 102,
   "metadata": {
    "collapsed": true
   },
   "outputs": [],
   "source": [
    "data = pd.DataFrame()\n",
    "\n",
    "data['SalePrice'] = total_dframe['SalePrice'] # make price the first entry\n",
    "data['SellDate'] = total_dframe['YrSold']+total_dframe['MoSold']/12"
   ]
  },
  {
   "cell_type": "code",
   "execution_count": 103,
   "metadata": {
    "collapsed": true
   },
   "outputs": [],
   "source": [
    "for item in already_numerical:\n",
    "    data[item] = total_dframe[item]"
   ]
  },
  {
   "cell_type": "code",
   "execution_count": 104,
   "metadata": {
    "collapsed": false
   },
   "outputs": [],
   "source": [
    "for item in ordered: # enumerate keys\n",
    "    d = ascending(ordered[item])\n",
    "    data[item] = list(map(lambda x:d[x],total_dframe[item]))"
   ]
  },
  {
   "cell_type": "code",
   "execution_count": 105,
   "metadata": {
    "collapsed": false
   },
   "outputs": [],
   "source": [
    "lable_binarizer = dict()\n",
    "for item in unordered:\n",
    "    lb = pre.LabelBinarizer()\n",
    "    lable_binarizer[item] = lb #save for later decoding\n",
    "    \n",
    "    new_columns = lb.fit_transform(total_dframe[item])\n",
    "    for class_,content in zip(lb.classes_, new_columns.T):\n",
    "        data[item+\" \"+str(class_)] = content\n",
    "        "
   ]
  },
  {
   "cell_type": "code",
   "execution_count": 117,
   "metadata": {
    "collapsed": false
   },
   "outputs": [
    {
     "data": {
      "image/png": "[encoded data removed]",
      "text/plain": [
       "<matplotlib.figure.Figure at 0x7f4147207668>"
      ]
     },
     "metadata": {},
     "output_type": "display_data"
    },
    {
     "data": {
      "text/plain": [
       "<ggplot: (-9223363291958322414)>"
      ]
     },
     "execution_count": 117,
     "metadata": {},
     "output_type": "execute_result"
    }
   ],
   "source": [
    "np.count_nonzero(data['BsmtFinSF2'])/len(data)\n",
    "\n",
    "gg.ggplot(data,gg.aes(x='BsmtFinSF2',y='SalePrice')) + gg.geom_point()"
   ]
  },
  {
   "cell_type": "code",
   "execution_count": 106,
   "metadata": {
    "collapsed": true
   },
   "outputs": [],
   "source": [
    "# exteriör summary\n",
    "data['ExAsbShng'] = data[ [\"Exterior1st AsbShng\" , \"Exterior2nd AsbShng\"]].max(axis=1)\n",
    "del data['Exterior1st AsbShng']\n",
    "del data['Exterior2nd AsbShng']\n",
    "\n",
    "data['AsphShn'] = data[ [\"Exterior1st AsphShn\" , \"Exterior2nd AsphShn\"]].max(axis=1)\n",
    "del data['Exterior1st AsphShn']\n",
    "del data['Exterior2nd AsphShn']\n",
    "\n",
    "data['ExBrkComm'] = data[[\"Exterior1st BrkComm\" , \"Exterior2nd Brk Cmn\"]].max(axis=1)\n",
    "del data['Exterior1st BrkComm']\n",
    "del data['Exterior2nd Brk Cmn']\n",
    "\n",
    "data['ExBrkFace'] = data[[\"Exterior1st BrkFace\" , \"Exterior2nd BrkFace\"]].max(axis=1)\n",
    "del data['Exterior1st BrkFace']\n",
    "del data['Exterior2nd BrkFace']\n",
    "\n",
    "data['ExCBlock'] = data[[\"Exterior1st CBlock\" , \"Exterior2nd CBlock\"]].max(axis=1)\n",
    "del data['Exterior1st CBlock']\n",
    "del data['Exterior2nd CBlock']\n",
    "\n",
    "data['ExCemntBd'] = data[[\"Exterior1st CemntBd\" , \"Exterior2nd CmentBd\"]].max(axis=1)\n",
    "del data['Exterior1st CemntBd']\n",
    "del data['Exterior2nd CmentBd']\n",
    "\n",
    "data['ExHdBoard'] = data[[\"Exterior1st HdBoard\" , \"Exterior2nd HdBoard\"]].max(axis=1)\n",
    "del data['Exterior1st HdBoard']\n",
    "del data['Exterior2nd HdBoard']\n",
    "\n",
    "data['ExImStucc'] = data[[\"Exterior1st ImStucc\" , \"Exterior2nd ImStucc\"]].max(axis=1)\n",
    "del data['Exterior1st ImStucc']\n",
    "del data['Exterior2nd ImStucc']\n",
    "\n",
    "data['ExMetalSd'] = data[[\"Exterior1st MetalSd\" , \"Exterior2nd MetalSd\"]].max(axis=1)\n",
    "del data['Exterior1st MetalSd']\n",
    "del data['Exterior2nd MetalSd']\n",
    "\n",
    "data['ExPlywood'] = data[[\"Exterior1st Plywood\" , \"Exterior2nd Plywood\"]].max(axis=1)\n",
    "del data['Exterior1st Plywood']\n",
    "del data['Exterior2nd Plywood']\n",
    "\n",
    "data['ExStone'] = data[[\"Exterior1st Stone\" , \"Exterior2nd Stone\"]].max(axis=1)\n",
    "del data['Exterior1st Stone']\n",
    "del data['Exterior2nd Stone']\n",
    "\n",
    "data['ExStucco'] = data[[\"Exterior1st Stucco\" , \"Exterior2nd Stucco\"]].max(axis=1)\n",
    "del data['Exterior1st Stucco']\n",
    "del data['Exterior2nd Stucco']\n",
    "\n",
    "data['ExVinylSd'] = data[[\"Exterior1st VinylSd\" , \"Exterior2nd VinylSd\"]].max(axis=1)\n",
    "del data['Exterior1st VinylSd']\n",
    "del data['Exterior2nd VinylSd']\n",
    "\n",
    "data['ExWdSdng'] = data[[\"Exterior1st Wd Sdng\" , \"Exterior2nd Wd Sdng\"]].max(axis=1)\n",
    "del data['Exterior1st Wd Sdng']\n",
    "del data['Exterior2nd Wd Sdng']\n",
    "\n",
    "data['ExWdShng'] = data[[\"Exterior1st WdShing\" , \"Exterior2nd Wd Shng\"]].max(axis=1)\n",
    "del data['Exterior1st WdShing']\n",
    "del data['Exterior2nd Wd Shng']\n"
   ]
  },
  {
   "cell_type": "code",
   "execution_count": 107,
   "metadata": {
    "collapsed": true
   },
   "outputs": [],
   "source": [
    "\n",
    "\n",
    "#names = data.columns\n",
    "#sets = np.transpose(data.values)\n",
    "#corrvalues = np.corrcoef(sets)[0]\n",
    "#corr_set = pd.Series(-np.abs(corrvalues), names)\n",
    "#print(corr_set.sort_values())\n",
    "\n",
    "#chosen = corr_set.sort_values().head(75).index\n",
    "\n",
    "#data_neu = pd.DataFrame()\n",
    "\n",
    "#for item in chosen:\n",
    "#    data_neu[item] = data[item]\n",
    "        "
   ]
  },
  {
   "cell_type": "code",
   "execution_count": 108,
   "metadata": {
    "collapsed": false
   },
   "outputs": [],
   "source": [
    "train = data[0:lenght_train]\n",
    "test = data[lenght_train:]\n",
    "\n",
    "train.to_csv(\"cleaned_train.csv\")\n",
    "test.to_csv(\"cleaned_test.csv\")"
   ]
  },
  {
   "cell_type": "code",
   "execution_count": null,
   "metadata": {
    "collapsed": true
   },
   "outputs": [],
   "source": []
  },
  {
   "cell_type": "code",
   "execution_count": null,
   "metadata": {
    "collapsed": true
   },
   "outputs": [],
   "source": []
  },
  {
   "cell_type": "code",
   "execution_count": null,
   "metadata": {
    "collapsed": true
   },
   "outputs": [],
   "source": []
  }
 ],
 "metadata": {
  "anaconda-cloud": {},
  "kernelspec": {
   "display_name": "Python [default]",
   "language": "python",
   "name": "python3"
  },
  "language_info": {
   "codemirror_mode": {
    "name": "ipython",
    "version": 3
   },
   "file_extension": ".py",
   "mimetype": "text/x-python",
   "name": "python",
   "nbconvert_exporter": "python",
   "pygments_lexer": "ipython3",
   "version": "3.5.2"
  }
 },
 "nbformat": 4,
 "nbformat_minor": 2
}
