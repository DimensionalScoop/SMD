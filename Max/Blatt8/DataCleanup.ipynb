{
 "cells": [
  {
   "cell_type": "code",
   "execution_count": 281,
   "metadata": {
    "collapsed": true
   },
   "outputs": [],
   "source": [
    "import sklearn as sk\n",
    "import sklearn.covariance as cov\n",
    "import pandas as pd\n",
    "import numpy as np\n",
    "import ggplot as gg"
   ]
  },
  {
   "cell_type": "code",
   "execution_count": 282,
   "metadata": {
    "collapsed": true
   },
   "outputs": [],
   "source": [
    "import sklearn.preprocessing as pre\n",
    "from DataFrameImputer import DataFrameImputer"
   ]
  },
  {
   "cell_type": "code",
   "execution_count": 283,
   "metadata": {
    "collapsed": false
   },
   "outputs": [],
   "source": [
    "# Import and replace NaNs with most frequent value for labels and mean for numericals\n",
    "train_original = pd.DataFrame.from_csv(\"train.csv\")\n",
    "test_original = pd.DataFrame.from_csv(\"test.csv\")\n",
    "lenght_train = len(train_original)\n",
    "total = train_original.append(test_original)\n",
    "total['SalePrice'] = total['SalePrice'].fillna(value=0) # don't impute price of the test data\n",
    "\n",
    "total_dframe = DataFrameImputer().fit_transform(total)"
   ]
  },
  {
   "cell_type": "code",
   "execution_count": 284,
   "metadata": {
    "collapsed": true
   },
   "outputs": [],
   "source": [
    "# Nachbarschaft\n",
    "nbh_score = {None: 0, \"CollgCr\": 2, \"Veenker\": 2, \"Crawfor\": 2, \"NoRidge\": 3, \"Mitchel\": 1, \"Somerst\":2, \"NWAmes\":2 , \"OldTown\":1, \"BrkSide\":1, \"Sawyer\":1, \"NridgHt\":3, \"NAmes\":1 , \"SawyerW\":2 , \"IDOTRR\":1, \"MeadowV\":1, \"Edwards\":1, \"Timber\":2, \"Gilbert\":2, \"StoneBr\":3 , \"ClearCr\":2, \"NPkVill\":1, \"Blmngtn\":2, \"BrDale\":1 , \"SWISU\":1, \"Blueste\":1}\n",
    "\n",
    "total_dframe['nbh_score'] = total_dframe['Neighborhood'].map(nbh_score)"
   ]
  },
  {
   "cell_type": "code",
   "execution_count": 285,
   "metadata": {
    "collapsed": true
   },
   "outputs": [],
   "source": [
    "next_to_airport = {\n",
    "       'Blmngtn':0    ,#Bloomington Heights\n",
    "       'Blueste': 0   ,#Bluestem\n",
    "       'BrDale':0     ,#Briardale\n",
    "       'BrkSide':0    ,#Brookside\n",
    "       'ClearCr':0    ,#Clear Creek\n",
    "       'CollgCr':0    ,#College Creek\n",
    "       'Crawfor':0    ,#Crawford\n",
    "       'Edwards':0    ,#Edwards\n",
    "       'Gilbert':0    ,#Gilbert\n",
    "       'IDOTRR': 0    ,#Iowa DOT and Rail Road\n",
    "       'MeadowV':0    ,#Meadow Village\n",
    "       'Mitchel':1    ,#Mitchell\n",
    "       'Names':  0    ,#North Ames\n",
    "       'NAmes':  0    ,#North Ames\n",
    "       'NoRidge':0    ,#Northridge\n",
    "       'NPkVill':0    ,#Northpark Villa\n",
    "       'NridgHt':0    ,#Northridge Heights\n",
    "       'NWAmes':  0   ,#Northwest Ames\n",
    "       'OldTown':0    ,#Old Town\n",
    "       'SWISU':  0    ,#South & West of Iowa State University\n",
    "       'Sawyer': 0    ,#Sawyer\n",
    "       'SawyerW':0    ,#Sawyer West\n",
    "       'Somerst':0    ,#Somerset\n",
    "       'StoneBr':1    ,#Stone Brook\n",
    "       'Timber': 1    ,#Timberland\n",
    "       'Veenker':0    ,#Veenker\n",
    "}\n",
    "\n",
    "total_dframe['gen_airport'] = total_dframe['Neighborhood'].map(next_to_airport)"
   ]
  },
  {
   "cell_type": "code",
   "execution_count": 286,
   "metadata": {
    "collapsed": true
   },
   "outputs": [],
   "source": [
    "average_sale_n = {\n",
    "       'Blmngtn':210443    ,#Bloomington Heights\n",
    "       'Blueste': 0   ,#Bluestem\n",
    "       'BrDale':0     ,#Briardale\n",
    "       'BrkSide':0    ,#Brookside\n",
    "       'ClearCr':0    ,#Clear Creek\n",
    "       'CollgCr':0    ,#College Creek\n",
    "       'Crawfor':0    ,#Crawford\n",
    "       'Edwards':0    ,#Edwards\n",
    "       'Gilbert':0    ,#Gilbert\n",
    "       'IDOTRR': 0    ,#Iowa DOT and Rail Road\n",
    "       'MeadowV':0    ,#Meadow Village\n",
    "       'Mitchel':1    ,#Mitchell\n",
    "       'Names':  0    ,#North Ames\n",
    "       'NAmes':  0    ,#North Ames\n",
    "       'NoRidge':0    ,#Northridge\n",
    "       'NPkVill':0    ,#Northpark Villa\n",
    "       'NridgHt':0    ,#Northridge Heights\n",
    "       'NWAmes':  0   ,#Northwest Ames\n",
    "       'OldTown':0    ,#Old Town\n",
    "       'SWISU':  0    ,#South & West of Iowa State University\n",
    "       'Sawyer': 0    ,#Sawyer\n",
    "       'SawyerW':0    ,#Sawyer West\n",
    "       'Somerst':0    ,#Somerset\n",
    "       'StoneBr':1    ,#Stone Brook\n",
    "       'Timber': 1    ,#Timberland\n",
    "       'Veenker':0    ,#Veenker\n",
    "}\n",
    "\n",
    "#total_dframe['Avg_Nbh_Price'] = total_dframe['Neighborhood'].map(average_sale_n)"
   ]
  },
  {
   "cell_type": "code",
   "execution_count": 287,
   "metadata": {
    "collapsed": false
   },
   "outputs": [],
   "source": [
    "# Data Generation\n",
    "loudness_zoning = {'A': 1,#Agriculture\n",
    "       'C': 5,#Commercial\n",
    "       'C (all)': 5, #Fuck-up            \n",
    "       'FV': 3,#Floating Village Residential\n",
    "       'I': 7,#Industrial\n",
    "       'RH': 5,#Residential High Density\n",
    "       'RL': 4,#Residential Low Density\n",
    "       'RP': 2,#Residential Low Density Park \n",
    "       'RM': 5,#Residential Medium Density\n",
    "                 }\n",
    "\n",
    "loudness_condition = {\n",
    "    'Artery':4 ,   #Adjacent to arterial street\n",
    "       'Feedr':2 ,    # Adjacent to feeder street   \n",
    "       'Norm':0 ,     #  Normal \n",
    "       'RRNn':2 ,     #Within 200' of North-South Railroad\n",
    "       'RRAn':2 ,     #Adjacent to North-South Railroad\n",
    "       'PosN':-2 ,     #Near positive off-site feature--park, greenbelt, etc.\n",
    "       'PosA':-4 ,     #Adjacent to postive off-site feature\n",
    "       'RRNe':2 ,     #Within 200' of East-West Railroad\n",
    "       'RRAe':2 ,     #Adjacent to East-West Railroad\n",
    "}\n",
    "\n",
    "loudness_fence = {\n",
    "     'GdPrv': 1,\t#Good Privacy\n",
    "       'MnPrv': 0,\t#Minimum Privacy\n",
    "       'GdWo': 0,\t#Good Wood\n",
    "       'MnWw': 0,\t#Minimum Wood/Wire\n",
    "       'NA': 0,\t#No Fence\n",
    "}\n",
    "\n",
    "total_dframe['gen_loudness'] = total_dframe['Fence'].map(loudness_fence) + total_dframe['MSZoning'].map(loudness_zoning)+total_dframe['Condition1'].map(loudness_condition)+total_dframe['Condition2'].map(loudness_condition)\n",
    "#total_dframe['gen_airport']*3 +"
   ]
  },
  {
   "cell_type": "code",
   "execution_count": 288,
   "metadata": {
    "collapsed": true
   },
   "outputs": [],
   "source": [
    "transportation_score = {\n",
    "     'Artery': 2,   #Adjacent to arterial street\n",
    "       'Feedr': 1,    # Adjacent to feeder street   \n",
    "       'Norm': 0,     #  Normal \n",
    "       'RRNn': 1,     #Within 200' of North-South Railroad\n",
    "       'RRAn': 2,     #Adjacent to North-South Railroad\n",
    "       'PosN': 0,     #Near positive off-site feature--park, greenbelt, etc.\n",
    "       'PosA': 0,     #Adjacent to postive off-site feature\n",
    "       'RRNe': 1,     #Within 200' of East-West Railroad\n",
    "       'RRAe': 2,     #Adjacent to East-West Railroad\n",
    "}\n",
    "total_dframe['gen_transport'] =  total_dframe['Condition1'].map(transportation_score) + total_dframe['Condition2'].map(transportation_score)\n",
    "#total_dframe['gen_airport']*0.5 +"
   ]
  },
  {
   "cell_type": "code",
   "execution_count": 289,
   "metadata": {
    "collapsed": true
   },
   "outputs": [],
   "source": [
    "type_score = {\n",
    "        'WD': 0, #Warranty Deed - Conventional\n",
    "       'CWD': 0,\t#Warranty Deed - Cash\n",
    "       'VWD': 0,\t#Warranty Deed - VA Loan\n",
    "       'New': 4,\t#Home just constructed and sold\n",
    "       'COD': 0,\t#Court Officer Deed/Estate\n",
    "       'Con': 2,\t#Contract 15% Down payment regular terms\n",
    "       'ConLw': 1,\t#Contract Low Down payment and low interest\n",
    "       'ConLI': 1,\t#Contract Low Interest\n",
    "       'ConLD': 1,\t#Contract Low Down\n",
    "       'Oth': 0,\t#Other\n",
    "}\n",
    "\n",
    "condition_score = {\n",
    "        'Normal': 0,\t#Normal Sale\n",
    "       'Abnorml': -1,\t#Abnormal Sale -  trade, foreclosure, short sale\n",
    "       'AdjLand':-1 ,\t#Adjoining Land Purchase\n",
    "       'Alloca': 0,\t#Allocation - two linked properties with separate deeds, typically condo with a garage unit\t\n",
    "       'Family': -1,\t#Sale between family members\n",
    "       'Partial': 2,\t#Home was not completed when last assessed (associated with New Homes)\n",
    "}\n",
    "\n",
    "total_dframe['gen_discount'] = total_dframe['SaleType'].map(type_score) + total_dframe['SaleCondition'].map(condition_score)"
   ]
  },
  {
   "cell_type": "code",
   "execution_count": 290,
   "metadata": {
    "collapsed": true
   },
   "outputs": [],
   "source": [
    "park_score = {\n",
    "     'Artery': -1,   #Adjacent to arterial street\n",
    "       'Feedr': -1,    # Adjacent to feeder street   \n",
    "       'Norm': 0,     #  Normal \n",
    "       'RRNn': 0,     #Within 200' of North-South Railroad\n",
    "       'RRAn': -1,     #Adjacent to North-South Railroad\n",
    "       'PosN': 1,     #Near positive off-site feature--park, greenbelt, etc.\n",
    "       'PosA': 2,     #Adjacent to postive off-site feature\n",
    "       'RRNe': 0,     #Within 200' of East-West Railroad\n",
    "       'RRAe': -1,     #Adjacent to East-West Railroad\n",
    "}\n",
    "\n",
    "total_dframe['gen_parkness'] = total_dframe['Condition1'].map(park_score) + total_dframe['Condition2'].map(park_score)"
   ]
  },
  {
   "cell_type": "code",
   "execution_count": 291,
   "metadata": {
    "collapsed": false
   },
   "outputs": [],
   "source": [
    "total_dframe['gen_electrical_quality'] = total_dframe['Electrical'].map(lambda x:x=='SBrkr')"
   ]
  },
  {
   "cell_type": "code",
   "execution_count": 292,
   "metadata": {
    "collapsed": false
   },
   "outputs": [],
   "source": [
    "total_dframe['gen_total_porch'] = total_dframe['OpenPorchSF']*0.7 + total_dframe['EnclosedPorch']+ total_dframe['3SsnPorch']*1.2+total_dframe['ScreenPorch']"
   ]
  },
  {
   "cell_type": "code",
   "execution_count": 293,
   "metadata": {
    "collapsed": true
   },
   "outputs": [],
   "source": [
    "foundation_score = {'BrkTil': 0,\t#Brick & Tile\n",
    "       'CBlock': 1,\t#Cinder Block\n",
    "       'PConc': 2,\t#Poured Contrete\t\n",
    "       'Slab': 0,\t#Slab\n",
    "       'Stone': 0,\t#Stone\n",
    "       'Wood': 1,\t#Wood\n",
    "                   }\n",
    "total_dframe['gen_foundation'] = total_dframe['Foundation'].map(foundation_score)"
   ]
  },
  {
   "cell_type": "code",
   "execution_count": 294,
   "metadata": {
    "collapsed": true
   },
   "outputs": [],
   "source": [
    "story_score = {\n",
    "        '1Story': 1,\t#One story\n",
    "       '1.5Fin': 1,\t#One and one-half story: 2nd level finished\n",
    "       '1.5Unf': 1,\t#One and one-half story: 2nd level unfinished\n",
    "       '2Story': 2,\t#Two story\n",
    "       '2.5Fin': 2.1,\t#Two and one-half story: 2nd level finished\n",
    "       '2.5Unf': 1,\t#Two and one-half story: 2nd level unfinished\n",
    "       'SFoyer': 1,\t#Split Foyer\n",
    "       'SLvl': 1.5,\t#Split Level\n",
    "}\n",
    "\n",
    "total_dframe['gen_story'] = total_dframe['HouseStyle'].map(story_score)"
   ]
  },
  {
   "cell_type": "code",
   "execution_count": 295,
   "metadata": {
    "collapsed": false
   },
   "outputs": [],
   "source": [
    "dwelling_score = {'1Fam': 1,\t#Single-family Detached\t\n",
    "       '2fmCon': 0,\t#Two-family Conversion; originally built as one-family dwelling\n",
    "       'Duplex': 0,\t#Duplex\n",
    "       'TwnhsE': 1,\t#Townhouse End Unit\n",
    "       'Twnhs': 0,\t#Townhouse Inside Unit\n",
    "        }\n",
    "total_dframe['gen_dwelling'] = total_dframe['BldgType'].map(dwelling_score)      "
   ]
  },
  {
   "cell_type": "code",
   "execution_count": 296,
   "metadata": {
    "collapsed": false
   },
   "outputs": [],
   "source": [
    "lot_config_score = {'Inside': 0,\t#Inside lot\n",
    "       'Corner': 0,\t#Corner lot\n",
    "       'CulDSac': 1,\t#Cul-de-sac\n",
    "       'FR2': 1,\t#Frontage on 2 sides of property\n",
    "       'FR3': 0,\t#Frontage on 3 sides of property\n",
    "                   }\n",
    "total_dframe['gen_lot_config'] = total_dframe['LotConfig'].map(lot_config_score) "
   ]
  },
  {
   "cell_type": "code",
   "execution_count": 297,
   "metadata": {
    "collapsed": true
   },
   "outputs": [],
   "source": [
    "shape_score = {'Reg': 1,\t#Regular\t\n",
    "       'IR1': 0,\t#Slightly irregular\n",
    "       'IR2': 0,\t#Moderately Irregular\n",
    "       'IR3': 0,\t#Irregular\n",
    "              }\n",
    "total_dframe['gen_shape'] = total_dframe['LotShape'].map(shape_score)              "
   ]
  },
  {
   "cell_type": "code",
   "execution_count": 298,
   "metadata": {
    "collapsed": false
   },
   "outputs": [],
   "source": [
    "zoning_score={'A':0, \t#Agriculture\n",
    "       'C (all)':0, \t#Commercial\n",
    "       'FV':1,\t#Floating Village Residential\n",
    "       'I':0, \t#Industrial\n",
    "       'RH':0, \t#Residential High Density\n",
    "       'RL':1, \t#Residential Low Density\n",
    "       'RP':0, \t#Residential Low Density Park \n",
    "       'RM':0, \t#Residential Medium Density\n",
    "             }\n",
    "total_dframe['gen_zoning'] = total_dframe['MSZoning'].map(zoning_score) "
   ]
  },
  {
   "cell_type": "code",
   "execution_count": 299,
   "metadata": {
    "collapsed": true
   },
   "outputs": [],
   "source": [
    "# data from http://www.cityofames.org/government/departments-divisions-a-h/city-assessor/maps\n",
    "multipliers_scores = {\n",
    "        'Blmngtn':105    ,#Bloomington Heights\n",
    "       'Blueste': 99   ,#Bluestem\n",
    "       'BrDale':102     ,#Briardale\n",
    "       'BrkSide':106    ,#Brookside\n",
    "       'ClearCr':103    ,#Clear Creek\n",
    "       'CollgCr':98    ,#College Creek\n",
    "       'Crawfor':106    ,#Crawford\n",
    "       'Edwards':98    ,#Edwards\n",
    "       'Gilbert':97    ,#Gilbert\n",
    "       'IDOTRR': 102    ,#Iowa DOT and Rail Road\n",
    "       'MeadowV':90    ,#Meadow Village\n",
    "       'Mitchel':99    ,#Mitchell\n",
    "       'Names':  100    ,#North Ames\n",
    "       'NAmes':  100    ,#North Ames\n",
    "       'NoRidge':101    ,#Northridge\n",
    "       'NPkVill':109    ,#Northpark Villa\n",
    "       'NridgHt':104    ,#Northridge Heights\n",
    "       'NWAmes':  99   ,#Northwest Ames\n",
    "       'OldTown':102    ,#Old Town\n",
    "       'SWISU':  99    ,#South & West of Iowa State University\n",
    "       'Sawyer': 101    ,#Sawyer\n",
    "       'SawyerW':98    ,#Sawyer West\n",
    "       'Somerst':101    ,#Somerset\n",
    "       'StoneBr':104    ,#Stone Brook\n",
    "       'Timber': 103    ,#Timberland\n",
    "       'Veenker':98    ,#Veenker\n",
    "}\n",
    "\n",
    "total_dframe['gen_nbrhd_multipliers'] = total_dframe['Neighborhood'].map(multipliers_scores) "
   ]
  },
  {
   "cell_type": "code",
   "execution_count": 300,
   "metadata": {
    "collapsed": false,
    "scrolled": true
   },
   "outputs": [],
   "source": [
    "# Sub Class Scoring\n",
    "subclass_score = {}\n",
    "\n",
    "d = np.array(total_dframe['MSSubClass'])\n",
    "\n",
    "for subclass in np.unique(d):\n",
    "    subclass_score[subclass] = total_dframe['SalePrice'][d == subclass].mean()\n",
    "    \n",
    "subclass_score[150] = subclass_score[120]\n",
    "\n",
    "total_dframe['gen_subclass'] = total_dframe['MSSubClass'].map(subclass_score) "
   ]
  },
  {
   "cell_type": "code",
   "execution_count": 301,
   "metadata": {
    "collapsed": true
   },
   "outputs": [],
   "source": [
    "def ascending(set, na=None):\n",
    "    types = zip(set, range(1, len(set) + 1))\n",
    "\n",
    "    if na != None:  # if there is a 'not appllicable' classification, generate an array with a 'has' and 'label' quality\n",
    "        types = map(lambda x: [x[0], 1, x[1]], types)\n",
    "        types.append([na, 0, 0])\n",
    "\n",
    "    return dict(types)"
   ]
  },
  {
   "cell_type": "code",
   "execution_count": 302,
   "metadata": {
    "collapsed": true
   },
   "outputs": [],
   "source": [
    "# Label Properties\n",
    "special = ['MoSold', 'YrSold','SalePrice']\n",
    "\n",
    "already_numerical = ['nbh_score','LotFrontage', 'LotArea', 'YearBuilt', 'YearRemodAdd', 'MasVnrArea',\n",
    "                     'BsmtFinSF1', 'BsmtFinSF2', 'BsmtUnfSF', 'TotalBsmtSF', '1stFlrSF', '2ndFlrSF', \n",
    "                     'LowQualFinSF', 'GrLivArea', 'BsmtFullBath', 'BsmtHalfBath', 'FullBath', 'HalfBath', \n",
    "                     'BedroomAbvGr', 'KitchenAbvGr', 'TotRmsAbvGrd', 'Fireplaces', 'GarageYrBlt', 'GarageCars', \n",
    "                     'GarageArea', 'WoodDeckSF',\n",
    "                     'OpenPorchSF', 'EnclosedPorch', '3SsnPorch', 'ScreenPorch', 'PoolArea', 'MiscVal','OverallQual', 'OverallCond',\n",
    "                    'gen_discount','gen_transport','gen_loudness', 'gen_total_porch', 'gen_parkness','gen_electrical_quality',\n",
    "                    'gen_foundation','gen_story', 'gen_dwelling','gen_lot_config','gen_shape','gen_zoning',\n",
    "                    'gen_subclass','gen_airport', 'gen_nbrhd_multipliers']\n",
    "\n",
    "# 'gen_nbrhd_multipliers', ,'gen_airport'\n",
    "\n",
    "default = ['Ex', 'Gd', 'TA', 'Fa', 'Po']\n",
    "ordered = {\n",
    "    'LandContour': ['Low', 'Lvl', 'Bnk', 'HLS'],\n",
    "    'Utilities': ['AllPub', 'NoSewr', 'NoSeWa', 'ELO'],\n",
    "    'LandSlope': ['Gtl', 'Mod', 'Sev'],\n",
    "    'ExterQual': default,\n",
    "    'ExterCond': default,\n",
    "    'BsmtQual': default,  # has an NA\n",
    "    'BsmtCond': default,  # has an NA\n",
    "    'BsmtExposure': ['Gd', 'Av', 'Mn', 'No'],  # has an NA\n",
    "    'BsmtFinType1': ['GLQ', 'ALQ', 'BLQ', 'Rec', 'LwQ', 'Unf'],  # NA\n",
    "    'BsmtFinType2': ['GLQ', 'ALQ', 'BLQ', 'Rec', 'LwQ', 'Unf'],\n",
    "    'HeatingQC': default,\n",
    "    'KitchenQual': default,\n",
    "    'Functional': ['Typ', 'Min1', 'Min2', 'Mod', 'Maj1', 'Maj2', 'Sev', 'Sal'],\n",
    "    'FireplaceQu': default,  # NA\n",
    "    'GarageFinish': ['Fin', 'RFn', 'Unf'],  # NA\n",
    "    'GarageQual': default,  # NA\n",
    "    'GarageCond': default,  # NA\n",
    "    'PavedDrive': ['Y', 'P', 'N'],\n",
    "    'PoolQC': default,  # NA\n",
    "    'Fence': ['GdPrv', 'MnPrv', 'GdWo', 'MnWw', 'NA'],\n",
    "}\n",
    "\n",
    "unordered = [ 'Street',\n",
    "\n",
    "              \n",
    "               'MasVnrType',\n",
    "             'CentralAir', 'GarageType', \n",
    "             \n",
    "             'Exterior1st', 'Exterior2nd'\n",
    "             ]\n",
    "\n",
    "# gone: 'Neighborhood',"
   ]
  },
  {
   "cell_type": "code",
   "execution_count": 303,
   "metadata": {
    "collapsed": true
   },
   "outputs": [],
   "source": [
    "# unsure\n",
    "# Alley, Street\n",
    "\n",
    "removed = ['Heating', 'SaleCondition','SaleType','MiscFeature','Electrical','Foundation', 'RoofMatl',\n",
    "          'RoofStyle','HouseStyle', 'BldgType', 'Condition1', 'Condition2','LotConfig','LotShape','Alley','MSZoning','MSSubClass']"
   ]
  },
  {
   "cell_type": "code",
   "execution_count": 304,
   "metadata": {
    "collapsed": false
   },
   "outputs": [],
   "source": [
    "# check for all colummns\n",
    "#assert set.intersection(set(already_numerical),set(ordered.keys())) == set()\n",
    "#assert set.intersection(set(unordered),set(ordered.keys())) == set()\n",
    "#assert set.intersection(set(unordered),set(already_numerical)) == set()"
   ]
  },
  {
   "cell_type": "code",
   "execution_count": 305,
   "metadata": {
    "collapsed": false
   },
   "outputs": [],
   "source": [
    "#all_columns = set(removed + special + already_numerical + list(ordered.keys()) + unordered)\n",
    "#assert all_columns.symmetric_difference(set(total_dframe.columns))==set()"
   ]
  },
  {
   "cell_type": "code",
   "execution_count": 306,
   "metadata": {
    "collapsed": true
   },
   "outputs": [],
   "source": [
    "data = pd.DataFrame()\n",
    "\n",
    "data['SalePrice'] = total_dframe['SalePrice'] # make price the first entry\n",
    "data['SellDate'] = total_dframe['YrSold']+total_dframe['MoSold']/12"
   ]
  },
  {
   "cell_type": "code",
   "execution_count": 280,
   "metadata": {
    "collapsed": false
   },
   "outputs": [],
   "source": [
    "prices = [0, 267.12, 266.08, 265.24, 266.59, 266.74, 265.28, 262.42, 262.39, 263.71, 259.72, 253.29, 253.88, 258.47, 252.55, 247.46, 247.16, 244.39, 242.55, 245.49, 244.81, 237.3]\n",
    "\n",
    "borders = [0, 2006, 2006.25, 2006.5, 2006.47, 2007, 2007.25, 2007.5, 2007.75, 2008, 2008.25, 2008.5, 2008.75, 2009, 2009.25, 2009.5, 2009.75, 2010, 2010.25, 2010.5, 2010.75, 2011]\n",
    "\n",
    "\n",
    "def price(x):\n",
    "    for i in range(22):\n",
    "        if x<borders[i]:\n",
    "            return prices[i-1]\n",
    "    return prices[-1]\n",
    "\n",
    "#from https://fred.stlouisfed.org/series/OHSTHPI\n",
    "#data['AmericaPrice'] = data['SellDate'].apply(price)"
   ]
  },
  {
   "cell_type": "code",
   "execution_count": 273,
   "metadata": {
    "collapsed": false
   },
   "outputs": [],
   "source": [
    "for item in already_numerical:\n",
    "    data[item] = total_dframe[item]"
   ]
  },
  {
   "cell_type": "code",
   "execution_count": 274,
   "metadata": {
    "collapsed": false
   },
   "outputs": [],
   "source": [
    "for item in ordered: # enumerate keys\n",
    "    d = ascending(ordered[item])\n",
    "    data[item] = list(map(lambda x:d[x],total_dframe[item]))"
   ]
  },
  {
   "cell_type": "code",
   "execution_count": 275,
   "metadata": {
    "collapsed": false
   },
   "outputs": [],
   "source": [
    "lable_binarizer = dict()\n",
    "for item in unordered:\n",
    "    lb = pre.LabelBinarizer()\n",
    "    lable_binarizer[item] = lb #save for later decoding\n",
    "    \n",
    "    new_columns = lb.fit_transform(total_dframe[item])\n",
    "    for class_,content in zip(lb.classes_, new_columns.T):\n",
    "        data[item+\" \"+str(class_)] = content"
   ]
  },
  {
   "cell_type": "code",
   "execution_count": 276,
   "metadata": {
    "collapsed": false
   },
   "outputs": [],
   "source": [
    "# add inflation as an attribute\n",
    "usa_inflation = pd.DataFrame.from_csv(\"inflation_usa.csv\")\n",
    "times = list(usa_inflation['TIME'])\n",
    "values = np.array(usa_inflation['Value']) # in percent per month\n",
    "values = values/100/20+1 # scaled to match with http://www.wolframalpha.com/input/?i=total+inflation+from+2005+to+2010+in+usa\n",
    "total_inflation = np.zeros(len(values))\n",
    "\n",
    "for i,val in enumerate(values):\n",
    "    total_inflation[i] = np.prod(values[:i+1])\n",
    "\n",
    "\n",
    "def find_time(time):\n",
    "    for i, t in enumerate(times):\n",
    "        if t>time:\n",
    "            return total_inflation[i-1]\n",
    "    raise \"Time not in table!\"\n",
    "\n",
    "#data['gen_Inflation'] = data['SellDate'].map(find_time)"
   ]
  },
  {
   "cell_type": "code",
   "execution_count": 277,
   "metadata": {
    "collapsed": false
   },
   "outputs": [],
   "source": [
    "data['gen_age'] = (data['SellDate'] - data['YearBuilt'])\n",
    "# there is one house that was sold before it was built. offset data by a slight amount (0.177) to counter this"
   ]
  },
  {
   "cell_type": "code",
   "execution_count": 278,
   "metadata": {
    "collapsed": false
   },
   "outputs": [],
   "source": [
    "# exteriör summary\n",
    "data['ExAsbShng'] = data[ [\"Exterior1st AsbShng\" , \"Exterior2nd AsbShng\"]].max(axis=1)\n",
    "del data['Exterior1st AsbShng']\n",
    "del data['Exterior2nd AsbShng']\n",
    "\n",
    "data['AsphShn'] = data[ [\"Exterior1st AsphShn\" , \"Exterior2nd AsphShn\"]].max(axis=1)\n",
    "del data['Exterior1st AsphShn']\n",
    "del data['Exterior2nd AsphShn']\n",
    "\n",
    "data['ExBrkComm'] = data[[\"Exterior1st BrkComm\" , \"Exterior2nd Brk Cmn\"]].max(axis=1)\n",
    "del data['Exterior1st BrkComm']\n",
    "del data['Exterior2nd Brk Cmn']\n",
    "\n",
    "data['ExBrkFace'] = data[[\"Exterior1st BrkFace\" , \"Exterior2nd BrkFace\"]].max(axis=1)\n",
    "del data['Exterior1st BrkFace']\n",
    "del data['Exterior2nd BrkFace']\n",
    "\n",
    "data['ExCBlock'] = data[[\"Exterior1st CBlock\" , \"Exterior2nd CBlock\"]].max(axis=1)\n",
    "del data['Exterior1st CBlock']\n",
    "del data['Exterior2nd CBlock']\n",
    "\n",
    "data['ExCemntBd'] = data[[\"Exterior1st CemntBd\" , \"Exterior2nd CmentBd\"]].max(axis=1)\n",
    "del data['Exterior1st CemntBd']\n",
    "del data['Exterior2nd CmentBd']\n",
    "\n",
    "data['ExHdBoard'] = data[[\"Exterior1st HdBoard\" , \"Exterior2nd HdBoard\"]].max(axis=1)\n",
    "del data['Exterior1st HdBoard']\n",
    "del data['Exterior2nd HdBoard']\n",
    "\n",
    "data['ExImStucc'] = data[[\"Exterior1st ImStucc\" , \"Exterior2nd ImStucc\"]].max(axis=1)\n",
    "del data['Exterior1st ImStucc']\n",
    "del data['Exterior2nd ImStucc']\n",
    "\n",
    "data['ExMetalSd'] = data[[\"Exterior1st MetalSd\" , \"Exterior2nd MetalSd\"]].max(axis=1)\n",
    "del data['Exterior1st MetalSd']\n",
    "del data['Exterior2nd MetalSd']\n",
    "\n",
    "data['ExPlywood'] = data[[\"Exterior1st Plywood\" , \"Exterior2nd Plywood\"]].max(axis=1)\n",
    "del data['Exterior1st Plywood']\n",
    "del data['Exterior2nd Plywood']\n",
    "\n",
    "data['ExStone'] = data[[\"Exterior1st Stone\" , \"Exterior2nd Stone\"]].max(axis=1)\n",
    "del data['Exterior1st Stone']\n",
    "del data['Exterior2nd Stone']\n",
    "\n",
    "data['ExStucco'] = data[[\"Exterior1st Stucco\" , \"Exterior2nd Stucco\"]].max(axis=1)\n",
    "del data['Exterior1st Stucco']\n",
    "del data['Exterior2nd Stucco']\n",
    "\n",
    "data['ExVinylSd'] = data[[\"Exterior1st VinylSd\" , \"Exterior2nd VinylSd\"]].max(axis=1)\n",
    "del data['Exterior1st VinylSd']\n",
    "del data['Exterior2nd VinylSd']\n",
    "\n",
    "data['ExWdSdng'] = data[[\"Exterior1st Wd Sdng\" , \"Exterior2nd Wd Sdng\"]].max(axis=1)\n",
    "del data['Exterior1st Wd Sdng']\n",
    "del data['Exterior2nd Wd Sdng']\n",
    "\n",
    "data['ExWdShng'] = data[[\"Exterior1st WdShing\" , \"Exterior2nd Wd Shng\"]].max(axis=1)\n",
    "del data['Exterior1st WdShing']\n",
    "del data['Exterior2nd Wd Shng']\n"
   ]
  },
  {
   "cell_type": "code",
   "execution_count": 279,
   "metadata": {
    "collapsed": false
   },
   "outputs": [],
   "source": [
    "train = data[0:lenght_train]\n",
    "test = data[lenght_train:]\n",
    "\n",
    "train.to_csv(\"cleaned_train.csv\")\n",
    "test.to_csv(\"cleaned_test.csv\")"
   ]
  }
 ],
 "metadata": {
  "anaconda-cloud": {},
  "kernelspec": {
   "display_name": "Python 3",
   "language": "python",
   "name": "python3"
  },
  "language_info": {
   "codemirror_mode": {
    "name": "ipython",
    "version": 3
   },
   "file_extension": ".py",
   "mimetype": "text/x-python",
   "name": "python",
   "nbconvert_exporter": "python",
   "pygments_lexer": "ipython3",
   "version": "3.5.2"
  }
 },
 "nbformat": 4,
 "nbformat_minor": 2
}
