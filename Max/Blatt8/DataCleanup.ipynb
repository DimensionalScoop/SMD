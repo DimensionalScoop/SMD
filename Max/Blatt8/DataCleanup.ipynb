{
 "cells": [
  {
   "cell_type": "code",
   "execution_count": 1,
   "metadata": {
    "collapsed": true
   },
   "outputs": [],
   "source": [
    "import sklearn as sk\n",
    "import sklearn.covariance as cov\n",
    "import pandas as pd\n",
    "import numpy as np"
   ]
  },
  {
   "cell_type": "code",
   "execution_count": 2,
   "metadata": {
    "collapsed": true
   },
   "outputs": [],
   "source": [
    "import sklearn.preprocessing as pre\n",
    "from DataFrameImputer import DataFrameImputer"
   ]
  },
  {
   "cell_type": "code",
   "execution_count": 3,
   "metadata": {
    "collapsed": false
   },
   "outputs": [],
   "source": [
    "# Import and replace NaNs with most frequent value for labels and mean for numericals\n",
    "train_original = pd.DataFrame.from_csv(\"train.csv\")\n",
    "test_original = pd.DataFrame.from_csv(\"test.csv\")\n",
    "lenght_train = len(train_original)\n",
    "total = train_original.append(test_original)\n",
    "total['SalePrice'] = total['SalePrice'].fillna(value=0) # don't impute price of the test data\n",
    "\n",
    "total_dframe = DataFrameImputer().fit_transform(total)"
   ]
  },
  {
   "cell_type": "code",
   "execution_count": 4,
   "metadata": {
    "collapsed": true
   },
   "outputs": [],
   "source": [
    "def ascending(set, na=None):\n",
    "    types = zip(set, range(1, len(set) + 1))\n",
    "\n",
    "    if na != None:  # if there is a 'not appllicable' classification, generate an array with a 'has' and 'label' quality\n",
    "        types = map(lambda x: [x[0], 1, x[1]], types)\n",
    "        types.append([na, 0, 0])\n",
    "\n",
    "    return dict(types)"
   ]
  },
  {
   "cell_type": "code",
   "execution_count": 5,
   "metadata": {
    "collapsed": true
   },
   "outputs": [],
   "source": [
    "# Label Properties\n",
    "unneccessary = ['TotalBsmtSF', 'TotRmsAbvGrd']\n",
    "\n",
    "special = ['MoSold', 'YrSold','SalePrice']\n",
    "\n",
    "already_numerical = ['LotFrontage', 'LotArea', 'YearBuilt', 'YearRemodAdd', 'MasVnrArea',\n",
    "                     'BsmtFinSF1', 'BsmtFinSF2', 'BsmtUnfSF', 'TotalBsmtSF', '1stFlrSF', '2ndFlrSF', \n",
    "                     'LowQualFinSF', 'GrLivArea', 'BsmtFullBath', 'BsmtHalfBath', 'FullBath', 'HalfBath', \n",
    "                     'BedroomAbvGr', 'KitchenAbvGr', 'TotRmsAbvGrd', 'Fireplaces', 'GarageYrBlt', 'GarageCars', \n",
    "                     'GarageArea', 'WoodDeckSF',\n",
    "                     'OpenPorchSF', 'EnclosedPorch', '3SsnPorch', 'ScreenPorch', 'PoolArea', 'MiscVal','OverallQual', 'OverallCond',]\n",
    "\n",
    "default = ['Ex', 'Gd', 'TA', 'Fa', 'Po']\n",
    "ordered = {\n",
    "    'LandContour': ['Low', 'Lvl', 'Bnk', 'HLS'],\n",
    "    'Utilities': ['AllPub', 'NoSewr', 'NoSeWa', 'ELO'],\n",
    "    'LandSlope': ['Gtl', 'Mod', 'Sev'],\n",
    "    'ExterQual': default,\n",
    "    'ExterCond': default,\n",
    "    'BsmtQual': default,  # has an NA\n",
    "    'BsmtCond': default,  # has an NA\n",
    "    'BsmtExposure': ['Gd', 'Av', 'Mn', 'No'],  # has an NA\n",
    "    'BsmtFinType1': ['GLQ', 'ALQ', 'BLQ', 'Rec', 'LwQ', 'Unf'],  # NA\n",
    "    'BsmtFinType2': ['GLQ', 'ALQ', 'BLQ', 'Rec', 'LwQ', 'Unf'],\n",
    "    'HeatingQC': default,\n",
    "    'KitchenQual': default,\n",
    "    'Functional': ['Typ', 'Min1', 'Min2', 'Mod', 'Maj1', 'Maj2', 'Sev', 'Sal'],\n",
    "    'FireplaceQu': default,  # NA\n",
    "    'GarageFinish': ['Fin', 'RFn', 'Unf'],  # NA\n",
    "    'GarageQual': default,  # NA\n",
    "    'GarageCond': default,  # NA\n",
    "    'PavedDrive': ['Y', 'P', 'N'],\n",
    "    'PoolQC': default,  # NA\n",
    "    'Fence': ['GdPrv', 'MnPrv', 'GdWo', 'MnWw', 'NA'],\n",
    "}\n",
    "\n",
    "unordered = ['MSSubClass', 'MSZoning', 'Street', 'Alley', 'LotShape', 'LotConfig', \n",
    "\n",
    "             'Neighborhood', 'Condition1', 'Condition2', 'BldgType', 'HouseStyle',\n",
    "             'RoofStyle', 'RoofMatl', 'Exterior1st', 'Exterior2nd', 'MasVnrType',\n",
    "             'Foundation', 'Heating', 'CentralAir', 'Electrical', 'GarageType', 'MiscFeature', 'SaleType', 'SaleCondition'\n",
    "             ]"
   ]
  },
  {
   "cell_type": "code",
   "execution_count": 6,
   "metadata": {
    "collapsed": false
   },
   "outputs": [],
   "source": [
    "# check for all colummns\n",
    "assert set.intersection(set(already_numerical),set(ordered.keys())) == set()\n",
    "assert set.intersection(set(unordered),set(ordered.keys())) == set()\n",
    "assert set.intersection(set(unordered),set(already_numerical)) == set()"
   ]
  },
  {
   "cell_type": "code",
   "execution_count": 7,
   "metadata": {
    "collapsed": false
   },
   "outputs": [],
   "source": [
    "all_columns = set(unneccessary + special + already_numerical + list(ordered.keys()) + unordered)\n",
    "assert all_columns.symmetric_difference(set(total_dframe.columns))==set()"
   ]
  },
  {
   "cell_type": "code",
   "execution_count": 8,
   "metadata": {
    "collapsed": true
   },
   "outputs": [],
   "source": [
    "data = pd.DataFrame()\n",
    "\n",
    "data['SalePrice'] = total_dframe['SalePrice'] # make price the first entry\n",
    "data['SellDate'] = total_dframe['YrSold']+total_dframe['MoSold']/12"
   ]
  },
  {
   "cell_type": "code",
   "execution_count": 9,
   "metadata": {
    "collapsed": true
   },
   "outputs": [],
   "source": [
    "for item in already_numerical:\n",
    "    data[item] = total_dframe[item]"
   ]
  },
  {
   "cell_type": "code",
   "execution_count": 10,
   "metadata": {
    "collapsed": false
   },
   "outputs": [],
   "source": [
    "for item in ordered: # enumerate keys\n",
    "    d = ascending(ordered[item])\n",
    "    data[item] = list(map(lambda x:d[x],total_dframe[item]))"
   ]
  },
  {
   "cell_type": "code",
   "execution_count": 11,
   "metadata": {
    "collapsed": false
   },
   "outputs": [],
   "source": [
    "lable_binarizer = dict()\n",
    "for item in unordered:\n",
    "    lb = pre.LabelBinarizer()\n",
    "    lable_binarizer[item] = lb #save for later decoding\n",
    "    \n",
    "    new_columns = lb.fit_transform(total_dframe[item])\n",
    "    for class_,content in zip(lb.classes_, new_columns.T):\n",
    "        data[item+\" \"+str(class_)] = content\n",
    "        "
   ]
  },
  {
   "cell_type": "code",
   "execution_count": 12,
   "metadata": {
    "collapsed": false
   },
   "outputs": [],
   "source": [
    "train = data[0:lenght_train]\n",
    "test = data[lenght_train:]\n",
    "\n",
    "train.to_csv(\"cleaned_train.csv\")\n",
    "test.to_csv(\"cleaned_test.csv\")"
   ]
  }
 ],
 "metadata": {
  "kernelspec": {
   "display_name": "Python 3",
   "language": "python",
   "name": "python3"
  },
  "language_info": {
   "codemirror_mode": {
    "name": "ipython",
    "version": 3
   },
   "file_extension": ".py",
   "mimetype": "text/x-python",
   "name": "python",
   "nbconvert_exporter": "python",
   "pygments_lexer": "ipython3",
   "version": "3.5.2"
  }
 },
 "nbformat": 4,
 "nbformat_minor": 2
}
