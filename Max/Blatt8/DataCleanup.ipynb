{
 "cells": [
  {
   "cell_type": "code",
   "execution_count": 368,
   "metadata": {
    "collapsed": true
   },
   "outputs": [],
   "source": [
    "import sklearn as sk\n",
    "import sklearn.covariance as cov\n",
    "import pandas as pd\n",
    "import numpy as np\n",
    "import ggplot as gg"
   ]
  },
  {
   "cell_type": "code",
   "execution_count": 369,
   "metadata": {
    "collapsed": true
   },
   "outputs": [],
   "source": [
    "import sklearn.preprocessing as pre\n",
    "from DataFrameImputer import DataFrameImputer"
   ]
  },
  {
   "cell_type": "code",
   "execution_count": 370,
   "metadata": {
    "collapsed": false
   },
   "outputs": [],
   "source": [
    "# Import and replace NaNs with most frequent value for labels and mean for numericals\n",
    "train_original = pd.DataFrame.from_csv(\"train.csv\")\n",
    "test_original = pd.DataFrame.from_csv(\"test.csv\")\n",
    "lenght_train = len(train_original)\n",
    "total = train_original.append(test_original)\n",
    "total['SalePrice'] = total['SalePrice'].fillna(value=0) # don't impute price of the test data\n",
    "\n",
    "total_dframe = DataFrameImputer().fit_transform(total)"
   ]
  },
  {
   "cell_type": "code",
   "execution_count": 371,
   "metadata": {
    "collapsed": true
   },
   "outputs": [],
   "source": [
    "# Nachbarschaft\n",
    "nbh_score = {None: 0, \"CollgCr\": 2, \"Veenker\": 2, \"Crawfor\": 2, \"NoRidge\": 3, \"Mitchel\": 1, \"Somerst\":2, \"NWAmes\":2 , \"OldTown\":1, \"BrkSide\":1, \"Sawyer\":1, \"NridgHt\":3, \"NAmes\":1 , \"SawyerW\":2 , \"IDOTRR\":1, \"MeadowV\":1, \"Edwards\":1, \"Timber\":2, \"Gilbert\":2, \"StoneBr\":3 , \"ClearCr\":2, \"NPkVill\":1, \"Blmngtn\":2, \"BrDale\":1 , \"SWISU\":1, \"Blueste\":1}\n",
    "\n",
    "total_dframe['nbh_score'] = total_dframe['Neighborhood'].map(nbh_score)"
   ]
  },
  {
   "cell_type": "code",
   "execution_count": 372,
   "metadata": {
    "collapsed": true
   },
   "outputs": [],
   "source": [
    "next_to_airport = {\n",
    "       'Blmngtn':0    ,#Bloomington Heights\n",
    "       'Blueste': 0   ,#Bluestem\n",
    "       'BrDale':0     ,#Briardale\n",
    "       'BrkSide':0    ,#Brookside\n",
    "       'ClearCr':0    ,#Clear Creek\n",
    "       'CollgCr':0    ,#College Creek\n",
    "       'Crawfor':0    ,#Crawford\n",
    "       'Edwards':0    ,#Edwards\n",
    "       'Gilbert':0    ,#Gilbert\n",
    "       'IDOTRR': 0    ,#Iowa DOT and Rail Road\n",
    "       'MeadowV':0    ,#Meadow Village\n",
    "       'Mitchel':1    ,#Mitchell\n",
    "       'Names':  0    ,#North Ames\n",
    "       'NAmes':  0    ,#North Ames\n",
    "       'NoRidge':0    ,#Northridge\n",
    "       'NPkVill':0    ,#Northpark Villa\n",
    "       'NridgHt':0    ,#Northridge Heights\n",
    "       'NWAmes':  0   ,#Northwest Ames\n",
    "       'OldTown':0    ,#Old Town\n",
    "       'SWISU':  0    ,#South & West of Iowa State University\n",
    "       'Sawyer': 0    ,#Sawyer\n",
    "       'SawyerW':0    ,#Sawyer West\n",
    "       'Somerst':0    ,#Somerset\n",
    "       'StoneBr':1    ,#Stone Brook\n",
    "       'Timber': 1    ,#Timberland\n",
    "       'Veenker':0    ,#Veenker\n",
    "}\n",
    "\n",
    "total_dframe['gen_airport'] = total_dframe['Neighborhood'].map(next_to_airport)"
   ]
  },
  {
   "cell_type": "code",
   "execution_count": 373,
   "metadata": {
    "collapsed": false
   },
   "outputs": [],
   "source": [
    "# Data Generation\n",
    "loudness_zoning = {'A': 1,#Agriculture\n",
    "       'C': 5,#Commercial\n",
    "       'C (all)': 5, #Fuck-up            \n",
    "       'FV': 3,#Floating Village Residential\n",
    "       'I': 7,#Industrial\n",
    "       'RH': 5,#Residential High Density\n",
    "       'RL': 4,#Residential Low Density\n",
    "       'RP': 2,#Residential Low Density Park \n",
    "       'RM': 5,#Residential Medium Density\n",
    "                 }\n",
    "\n",
    "loudness_condition = {\n",
    "    'Artery':4 ,   #Adjacent to arterial street\n",
    "       'Feedr':2 ,    # Adjacent to feeder street   \n",
    "       'Norm':0 ,     #  Normal \n",
    "       'RRNn':2 ,     #Within 200' of North-South Railroad\n",
    "       'RRAn':2 ,     #Adjacent to North-South Railroad\n",
    "       'PosN':-2 ,     #Near positive off-site feature--park, greenbelt, etc.\n",
    "       'PosA':-4 ,     #Adjacent to postive off-site feature\n",
    "       'RRNe':2 ,     #Within 200' of East-West Railroad\n",
    "       'RRAe':2 ,     #Adjacent to East-West Railroad\n",
    "}\n",
    "\n",
    "loudness_fence = {\n",
    "     'GdPrv': 1,\t#Good Privacy\n",
    "       'MnPrv': 0,\t#Minimum Privacy\n",
    "       'GdWo': 0,\t#Good Wood\n",
    "       'MnWw': 0,\t#Minimum Wood/Wire\n",
    "       'NA': 0,\t#No Fence\n",
    "}\n",
    "\n",
    "total_dframe['gen_loudness'] = total_dframe['gen_airport']*3 + total_dframe['Fence'].map(loudness_fence) + total_dframe['MSZoning'].map(loudness_zoning)+total_dframe['Condition1'].map(loudness_condition)+total_dframe['Condition2'].map(loudness_condition)"
   ]
  },
  {
   "cell_type": "code",
   "execution_count": 374,
   "metadata": {
    "collapsed": true
   },
   "outputs": [],
   "source": [
    "transportation_score = {\n",
    "     'Artery': 2,   #Adjacent to arterial street\n",
    "       'Feedr': 1,    # Adjacent to feeder street   \n",
    "       'Norm': 0,     #  Normal \n",
    "       'RRNn': 1,     #Within 200' of North-South Railroad\n",
    "       'RRAn': 2,     #Adjacent to North-South Railroad\n",
    "       'PosN': 0,     #Near positive off-site feature--park, greenbelt, etc.\n",
    "       'PosA': 0,     #Adjacent to postive off-site feature\n",
    "       'RRNe': 1,     #Within 200' of East-West Railroad\n",
    "       'RRAe': 2,     #Adjacent to East-West Railroad\n",
    "}\n",
    "total_dframe['gen_transport'] = total_dframe['gen_airport']*0.5 + total_dframe['Condition1'].map(transportation_score) + total_dframe['Condition2'].map(transportation_score)"
   ]
  },
  {
   "cell_type": "code",
   "execution_count": 375,
   "metadata": {
    "collapsed": true
   },
   "outputs": [],
   "source": [
    "type_score = {\n",
    "        'WD': 0, #Warranty Deed - Conventional\n",
    "       'CWD': 0,\t#Warranty Deed - Cash\n",
    "       'VWD': 0,\t#Warranty Deed - VA Loan\n",
    "       'New': 4,\t#Home just constructed and sold\n",
    "       'COD': 0,\t#Court Officer Deed/Estate\n",
    "       'Con': 2,\t#Contract 15% Down payment regular terms\n",
    "       'ConLw': 1,\t#Contract Low Down payment and low interest\n",
    "       'ConLI': 1,\t#Contract Low Interest\n",
    "       'ConLD': 1,\t#Contract Low Down\n",
    "       'Oth': 0,\t#Other\n",
    "}\n",
    "\n",
    "condition_score = {\n",
    "        'Normal': 0,\t#Normal Sale\n",
    "       'Abnorml': -1,\t#Abnormal Sale -  trade, foreclosure, short sale\n",
    "       'AdjLand':-1 ,\t#Adjoining Land Purchase\n",
    "       'Alloca': 0,\t#Allocation - two linked properties with separate deeds, typically condo with a garage unit\t\n",
    "       'Family': -1,\t#Sale between family members\n",
    "       'Partial': 2,\t#Home was not completed when last assessed (associated with New Homes)\n",
    "}\n",
    "\n",
    "total_dframe['gen_discount'] = total_dframe['SaleType'].map(type_score) + total_dframe['SaleCondition'].map(condition_score)"
   ]
  },
  {
   "cell_type": "code",
   "execution_count": 376,
   "metadata": {
    "collapsed": true
   },
   "outputs": [],
   "source": [
    "park_score = {\n",
    "     'Artery': -1,   #Adjacent to arterial street\n",
    "       'Feedr': -1,    # Adjacent to feeder street   \n",
    "       'Norm': 0,     #  Normal \n",
    "       'RRNn': 0,     #Within 200' of North-South Railroad\n",
    "       'RRAn': -1,     #Adjacent to North-South Railroad\n",
    "       'PosN': 1,     #Near positive off-site feature--park, greenbelt, etc.\n",
    "       'PosA': 2,     #Adjacent to postive off-site feature\n",
    "       'RRNe': 0,     #Within 200' of East-West Railroad\n",
    "       'RRAe': -1,     #Adjacent to East-West Railroad\n",
    "}\n",
    "\n",
    "total_dframe['gen_parkness'] = total_dframe['Condition1'].map(park_score) + total_dframe['Condition2'].map(park_score)"
   ]
  },
  {
   "cell_type": "code",
   "execution_count": 377,
   "metadata": {
    "collapsed": false
   },
   "outputs": [],
   "source": [
    "total_dframe['gen_electrical_quality'] = total_dframe['Electrical'].map(lambda x:x=='SBrkr')"
   ]
  },
  {
   "cell_type": "code",
   "execution_count": 378,
   "metadata": {
    "collapsed": false
   },
   "outputs": [],
   "source": [
    "total_dframe['gen_total_porch'] = total_dframe['OpenPorchSF']*0.7 + total_dframe['EnclosedPorch']+ total_dframe['3SsnPorch']*1.2+total_dframe['ScreenPorch']"
   ]
  },
  {
   "cell_type": "code",
   "execution_count": 379,
   "metadata": {
    "collapsed": true
   },
   "outputs": [],
   "source": [
    "foundation_score = {'BrkTil': 0,\t#Brick & Tile\n",
    "       'CBlock': 1,\t#Cinder Block\n",
    "       'PConc': 2,\t#Poured Contrete\t\n",
    "       'Slab': 0,\t#Slab\n",
    "       'Stone': 0,\t#Stone\n",
    "       'Wood': 1,\t#Wood\n",
    "                   }\n",
    "total_dframe['gen_foundation'] = total_dframe['Foundation'].map(foundation_score)"
   ]
  },
  {
   "cell_type": "code",
   "execution_count": 380,
   "metadata": {
    "collapsed": true
   },
   "outputs": [],
   "source": [
    "story_score = {\n",
    "        '1Story': 1,\t#One story\n",
    "       '1.5Fin': 1,\t#One and one-half story: 2nd level finished\n",
    "       '1.5Unf': 1,\t#One and one-half story: 2nd level unfinished\n",
    "       '2Story': 2,\t#Two story\n",
    "       '2.5Fin': 2.1,\t#Two and one-half story: 2nd level finished\n",
    "       '2.5Unf': 1,\t#Two and one-half story: 2nd level unfinished\n",
    "       'SFoyer': 1,\t#Split Foyer\n",
    "       'SLvl': 1.5,\t#Split Level\n",
    "}\n",
    "\n",
    "total_dframe['gen_story'] = total_dframe['HouseStyle'].map(story_score)"
   ]
  },
  {
   "cell_type": "code",
   "execution_count": 381,
   "metadata": {
    "collapsed": false
   },
   "outputs": [
    {
     "data": {
      "text/plain": [
       "array(['1Fam', '2fmCon', 'Duplex', 'Twnhs', 'TwnhsE'], dtype=object)"
      ]
     },
     "execution_count": 381,
     "metadata": {},
     "output_type": "execute_result"
    }
   ],
   "source": [
    "dwelling_score = {'1Fam': 1,\t#Single-family Detached\t\n",
    "       '2fmCon': 0,\t#Two-family Conversion; originally built as one-family dwelling\n",
    "       'Duplex': 0,\t#Duplex\n",
    "       'TwnhsE': 1,\t#Townhouse End Unit\n",
    "       'Twnhs': 0,\t#Townhouse Inside Unit\n",
    "        }\n",
    "total_dframe['gen_dwelling'] = total_dframe['BldgType'].map(dwelling_score)      \n",
    "np.unique(total_dframe['BldgType'])"
   ]
  },
  {
   "cell_type": "code",
   "execution_count": 382,
   "metadata": {
    "collapsed": false
   },
   "outputs": [],
   "source": [
    "lot_config_score = {'Inside': 0,\t#Inside lot\n",
    "       'Corner': 0,\t#Corner lot\n",
    "       'CulDSac': 1,\t#Cul-de-sac\n",
    "       'FR2': 1,\t#Frontage on 2 sides of property\n",
    "       'FR3': 0,\t#Frontage on 3 sides of property\n",
    "                   }\n",
    "total_dframe['gen_lot_config'] = total_dframe['LotConfig'].map(lot_config_score) "
   ]
  },
  {
   "cell_type": "code",
   "execution_count": 383,
   "metadata": {
    "collapsed": true
   },
   "outputs": [],
   "source": [
    "shape_score = {'Reg': 1,\t#Regular\t\n",
    "       'IR1': 0,\t#Slightly irregular\n",
    "       'IR2': 0,\t#Moderately Irregular\n",
    "       'IR3': 0,\t#Irregular\n",
    "              }\n",
    "total_dframe['gen_shape'] = total_dframe['LotShape'].map(shape_score)              "
   ]
  },
  {
   "cell_type": "code",
   "execution_count": 384,
   "metadata": {
    "collapsed": false
   },
   "outputs": [],
   "source": [
    "zoning_score={'A':0, \t#Agriculture\n",
    "       'C (all)':0, \t#Commercial\n",
    "       'FV':1,\t#Floating Village Residential\n",
    "       'I':0, \t#Industrial\n",
    "       'RH':0, \t#Residential High Density\n",
    "       'RL':1, \t#Residential Low Density\n",
    "       'RP':0, \t#Residential Low Density Park \n",
    "       'RM':0, \t#Residential Medium Density\n",
    "             }\n",
    "total_dframe['gen_zoning'] = total_dframe['MSZoning'].map(zoning_score) "
   ]
  },
  {
   "cell_type": "code",
   "execution_count": 385,
   "metadata": {
    "collapsed": true
   },
   "outputs": [],
   "source": [
    "# data from http://www.cityofames.org/government/departments-divisions-a-h/city-assessor/maps\n",
    "multipliers_scores = {\n",
    "        'Blmngtn':105    ,#Bloomington Heights\n",
    "       'Blueste': 99   ,#Bluestem\n",
    "       'BrDale':102     ,#Briardale\n",
    "       'BrkSide':106    ,#Brookside\n",
    "       'ClearCr':103    ,#Clear Creek\n",
    "       'CollgCr':98    ,#College Creek\n",
    "       'Crawfor':106    ,#Crawford\n",
    "       'Edwards':98    ,#Edwards\n",
    "       'Gilbert':97    ,#Gilbert\n",
    "       'IDOTRR': 102    ,#Iowa DOT and Rail Road\n",
    "       'MeadowV':90    ,#Meadow Village\n",
    "       'Mitchel':99    ,#Mitchell\n",
    "       'Names':  100    ,#North Ames\n",
    "       'NAmes':  100    ,#North Ames\n",
    "       'NoRidge':101    ,#Northridge\n",
    "       'NPkVill':109    ,#Northpark Villa\n",
    "       'NridgHt':104    ,#Northridge Heights\n",
    "       'NWAmes':  99   ,#Northwest Ames\n",
    "       'OldTown':102    ,#Old Town\n",
    "       'SWISU':  99    ,#South & West of Iowa State University\n",
    "       'Sawyer': 101    ,#Sawyer\n",
    "       'SawyerW':98    ,#Sawyer West\n",
    "       'Somerst':101    ,#Somerset\n",
    "       'StoneBr':104    ,#Stone Brook\n",
    "       'Timber': 103    ,#Timberland\n",
    "       'Veenker':98    ,#Veenker\n",
    "}\n",
    "\n",
    "total_dframe['gen_nbrhd_multipliers'] = total_dframe['Neighborhood'].map(multipliers_scores) "
   ]
  },
  {
   "cell_type": "code",
   "execution_count": 386,
   "metadata": {
    "collapsed": false
   },
   "outputs": [
    {
     "data": {
      "text/plain": [
       "{'Names'}"
      ]
     },
     "execution_count": 386,
     "metadata": {},
     "output_type": "execute_result"
    }
   ],
   "source": [
    "s = set(multipliers_scores.keys())\n",
    "s.symmetric_difference(set(total_dframe['Neighborhood']))"
   ]
  },
  {
   "cell_type": "code",
   "execution_count": 387,
   "metadata": {
    "collapsed": false,
    "scrolled": true
   },
   "outputs": [],
   "source": [
    "# Sub Class Scoring\n",
    "subclass_score = {}\n",
    "\n",
    "d = np.array(total_dframe['MSSubClass'])\n",
    "\n",
    "for subclass in np.unique(d):\n",
    "    subclass_score[subclass] = total_dframe['SalePrice'][d == subclass].mean()\n",
    "    \n",
    "subclass_score[150] = subclass_score[120]\n",
    "\n",
    "total_dframe['gen_subclass'] = total_dframe['MSSubClass'].map(subclass_score) "
   ]
  },
  {
   "cell_type": "code",
   "execution_count": 388,
   "metadata": {
    "collapsed": true
   },
   "outputs": [],
   "source": [
    "def ascending(set, na=None):\n",
    "    types = zip(set, range(1, len(set) + 1))\n",
    "\n",
    "    if na != None:  # if there is a 'not appllicable' classification, generate an array with a 'has' and 'label' quality\n",
    "        types = map(lambda x: [x[0], 1, x[1]], types)\n",
    "        types.append([na, 0, 0])\n",
    "\n",
    "    return dict(types)"
   ]
  },
  {
   "cell_type": "code",
   "execution_count": 389,
   "metadata": {
    "collapsed": true
   },
   "outputs": [],
   "source": [
    "# Label Properties\n",
    "special = ['MoSold', 'YrSold','SalePrice']\n",
    "\n",
    "already_numerical = ['nbh_score','LotFrontage', 'LotArea', 'YearBuilt', 'YearRemodAdd', 'MasVnrArea',\n",
    "                     'BsmtFinSF1', 'BsmtFinSF2', 'BsmtUnfSF', 'TotalBsmtSF', '1stFlrSF', '2ndFlrSF', \n",
    "                     'LowQualFinSF', 'GrLivArea', 'BsmtFullBath', 'BsmtHalfBath', 'FullBath', 'HalfBath', \n",
    "                     'BedroomAbvGr', 'KitchenAbvGr', 'TotRmsAbvGrd', 'Fireplaces', 'GarageYrBlt', 'GarageCars', \n",
    "                     'GarageArea', 'WoodDeckSF',\n",
    "                     'OpenPorchSF', 'EnclosedPorch', '3SsnPorch', 'ScreenPorch', 'PoolArea', 'MiscVal','OverallQual', 'OverallCond',\n",
    "                    'gen_discount','gen_transport','gen_loudness', 'gen_total_porch', 'gen_parkness','gen_electrical_quality',\n",
    "                    'gen_foundation','gen_story', 'gen_dwelling','gen_lot_config','gen_shape','gen_zoning',\n",
    "                    'gen_subclass','gen_airport']\n",
    "\n",
    "# 'gen_nbrhd_multipliers'\n",
    "\n",
    "default = ['Ex', 'Gd', 'TA', 'Fa', 'Po']\n",
    "ordered = {\n",
    "    'LandContour': ['Low', 'Lvl', 'Bnk', 'HLS'],\n",
    "    'Utilities': ['AllPub', 'NoSewr', 'NoSeWa', 'ELO'],\n",
    "    'LandSlope': ['Gtl', 'Mod', 'Sev'],\n",
    "    'ExterQual': default,\n",
    "    'ExterCond': default,\n",
    "    'BsmtQual': default,  # has an NA\n",
    "    'BsmtCond': default,  # has an NA\n",
    "    'BsmtExposure': ['Gd', 'Av', 'Mn', 'No'],  # has an NA\n",
    "    'BsmtFinType1': ['GLQ', 'ALQ', 'BLQ', 'Rec', 'LwQ', 'Unf'],  # NA\n",
    "    'BsmtFinType2': ['GLQ', 'ALQ', 'BLQ', 'Rec', 'LwQ', 'Unf'],\n",
    "    'HeatingQC': default,\n",
    "    'KitchenQual': default,\n",
    "    'Functional': ['Typ', 'Min1', 'Min2', 'Mod', 'Maj1', 'Maj2', 'Sev', 'Sal'],\n",
    "    'FireplaceQu': default,  # NA\n",
    "    'GarageFinish': ['Fin', 'RFn', 'Unf'],  # NA\n",
    "    'GarageQual': default,  # NA\n",
    "    'GarageCond': default,  # NA\n",
    "    'PavedDrive': ['Y', 'P', 'N'],\n",
    "    'PoolQC': default,  # NA\n",
    "    'Fence': ['GdPrv', 'MnPrv', 'GdWo', 'MnWw', 'NA'],\n",
    "}\n",
    "\n",
    "unordered = [ 'Street','Alley',\n",
    "\n",
    "              \n",
    "               'MasVnrType',\n",
    "             'CentralAir', 'GarageType', \n",
    "             \n",
    "             'Exterior1st', 'Exterior2nd'\n",
    "             ]\n",
    "\n",
    "# gone: 'Neighborhood',"
   ]
  },
  {
   "cell_type": "code",
   "execution_count": 390,
   "metadata": {
    "collapsed": true
   },
   "outputs": [],
   "source": [
    "# unsure\n",
    "# Alley, Street\n",
    "\n",
    "removed = ['Heating', 'SaleCondition','SaleType','MiscFeature','Electrical','Foundation', 'RoofMatl',\n",
    "          'RoofStyle','HouseStyle', 'BldgType', 'Condition1', 'Condition2','LotConfig','LotShape','Alley','MSZoning','MSSubClass']"
   ]
  },
  {
   "cell_type": "code",
   "execution_count": 391,
   "metadata": {
    "collapsed": false
   },
   "outputs": [],
   "source": [
    "# check for all colummns\n",
    "assert set.intersection(set(already_numerical),set(ordered.keys())) == set()\n",
    "assert set.intersection(set(unordered),set(ordered.keys())) == set()\n",
    "assert set.intersection(set(unordered),set(already_numerical)) == set()"
   ]
  },
  {
   "cell_type": "code",
   "execution_count": 392,
   "metadata": {
    "collapsed": false
   },
   "outputs": [],
   "source": [
    "all_columns = set(removed + special + already_numerical + list(ordered.keys()) + unordered)\n",
    "#assert all_columns.symmetric_difference(set(total_dframe.columns))==set()"
   ]
  },
  {
   "cell_type": "code",
   "execution_count": 393,
   "metadata": {
    "collapsed": true
   },
   "outputs": [],
   "source": [
    "data = pd.DataFrame()\n",
    "\n",
    "data['SalePrice'] = total_dframe['SalePrice'] # make price the first entry\n",
    "data['SellDate'] = total_dframe['YrSold']+total_dframe['MoSold']/12"
   ]
  },
  {
   "cell_type": "code",
   "execution_count": 394,
   "metadata": {
    "collapsed": false
   },
   "outputs": [],
   "source": [
    "for item in already_numerical:\n",
    "    data[item] = total_dframe[item]"
   ]
  },
  {
   "cell_type": "code",
   "execution_count": 395,
   "metadata": {
    "collapsed": false
   },
   "outputs": [],
   "source": [
    "for item in ordered: # enumerate keys\n",
    "    d = ascending(ordered[item])\n",
    "    data[item] = list(map(lambda x:d[x],total_dframe[item]))"
   ]
  },
  {
   "cell_type": "code",
   "execution_count": 396,
   "metadata": {
    "collapsed": false
   },
   "outputs": [],
   "source": [
    "lable_binarizer = dict()\n",
    "for item in unordered:\n",
    "    lb = pre.LabelBinarizer()\n",
    "    lable_binarizer[item] = lb #save for later decoding\n",
    "    \n",
    "    new_columns = lb.fit_transform(total_dframe[item])\n",
    "    for class_,content in zip(lb.classes_, new_columns.T):\n",
    "        data[item+\" \"+str(class_)] = content"
   ]
  },
  {
   "cell_type": "code",
   "execution_count": 400,
   "metadata": {
    "collapsed": false
   },
   "outputs": [
    {
     "ename": "KeyError",
     "evalue": "\"['Exterior1st AsbShng' 'Exterior2nd AsbShng'] not in index\"",
     "output_type": "error",
     "traceback": [
      "\u001b[0;31m---------------------------------------------------------------------------\u001b[0m",
      "\u001b[0;31mKeyError\u001b[0m                                  Traceback (most recent call last)",
      "\u001b[0;32m<ipython-input-400-db6aaa3224c8>\u001b[0m in \u001b[0;36m<module>\u001b[0;34m()\u001b[0m\n\u001b[1;32m      1\u001b[0m \u001b[0;31m# exteriör summary\u001b[0m\u001b[0;34m\u001b[0m\u001b[0;34m\u001b[0m\u001b[0m\n\u001b[0;32m----> 2\u001b[0;31m \u001b[0mdata\u001b[0m\u001b[0;34m[\u001b[0m\u001b[0;34m'ExAsbShng'\u001b[0m\u001b[0;34m]\u001b[0m \u001b[0;34m=\u001b[0m \u001b[0mdata\u001b[0m\u001b[0;34m[\u001b[0m \u001b[0;34m[\u001b[0m\u001b[0;34m\"Exterior1st AsbShng\"\u001b[0m \u001b[0;34m,\u001b[0m \u001b[0;34m\"Exterior2nd AsbShng\"\u001b[0m\u001b[0;34m]\u001b[0m\u001b[0;34m]\u001b[0m\u001b[0;34m.\u001b[0m\u001b[0mmax\u001b[0m\u001b[0;34m(\u001b[0m\u001b[0maxis\u001b[0m\u001b[0;34m=\u001b[0m\u001b[0;36m1\u001b[0m\u001b[0;34m)\u001b[0m\u001b[0;34m\u001b[0m\u001b[0m\n\u001b[0m\u001b[1;32m      3\u001b[0m \u001b[0;32mdel\u001b[0m \u001b[0mdata\u001b[0m\u001b[0;34m[\u001b[0m\u001b[0;34m'Exterior1st AsbShng'\u001b[0m\u001b[0;34m]\u001b[0m\u001b[0;34m\u001b[0m\u001b[0m\n\u001b[1;32m      4\u001b[0m \u001b[0;32mdel\u001b[0m \u001b[0mdata\u001b[0m\u001b[0;34m[\u001b[0m\u001b[0;34m'Exterior2nd AsbShng'\u001b[0m\u001b[0;34m]\u001b[0m\u001b[0;34m\u001b[0m\u001b[0m\n\u001b[1;32m      5\u001b[0m \u001b[0;34m\u001b[0m\u001b[0m\n",
      "\u001b[0;32m/usr/lib/python3.5/site-packages/pandas/core/frame.py\u001b[0m in \u001b[0;36m__getitem__\u001b[0;34m(self, key)\u001b[0m\n\u001b[1;32m   2049\u001b[0m         \u001b[0;32mif\u001b[0m \u001b[0misinstance\u001b[0m\u001b[0;34m(\u001b[0m\u001b[0mkey\u001b[0m\u001b[0;34m,\u001b[0m \u001b[0;34m(\u001b[0m\u001b[0mSeries\u001b[0m\u001b[0;34m,\u001b[0m \u001b[0mnp\u001b[0m\u001b[0;34m.\u001b[0m\u001b[0mndarray\u001b[0m\u001b[0;34m,\u001b[0m \u001b[0mIndex\u001b[0m\u001b[0;34m,\u001b[0m \u001b[0mlist\u001b[0m\u001b[0;34m)\u001b[0m\u001b[0;34m)\u001b[0m\u001b[0;34m:\u001b[0m\u001b[0;34m\u001b[0m\u001b[0m\n\u001b[1;32m   2050\u001b[0m             \u001b[0;31m# either boolean or fancy integer index\u001b[0m\u001b[0;34m\u001b[0m\u001b[0;34m\u001b[0m\u001b[0m\n\u001b[0;32m-> 2051\u001b[0;31m             \u001b[0;32mreturn\u001b[0m \u001b[0mself\u001b[0m\u001b[0;34m.\u001b[0m\u001b[0m_getitem_array\u001b[0m\u001b[0;34m(\u001b[0m\u001b[0mkey\u001b[0m\u001b[0;34m)\u001b[0m\u001b[0;34m\u001b[0m\u001b[0m\n\u001b[0m\u001b[1;32m   2052\u001b[0m         \u001b[0;32melif\u001b[0m \u001b[0misinstance\u001b[0m\u001b[0;34m(\u001b[0m\u001b[0mkey\u001b[0m\u001b[0;34m,\u001b[0m \u001b[0mDataFrame\u001b[0m\u001b[0;34m)\u001b[0m\u001b[0;34m:\u001b[0m\u001b[0;34m\u001b[0m\u001b[0m\n\u001b[1;32m   2053\u001b[0m             \u001b[0;32mreturn\u001b[0m \u001b[0mself\u001b[0m\u001b[0;34m.\u001b[0m\u001b[0m_getitem_frame\u001b[0m\u001b[0;34m(\u001b[0m\u001b[0mkey\u001b[0m\u001b[0;34m)\u001b[0m\u001b[0;34m\u001b[0m\u001b[0m\n",
      "\u001b[0;32m/usr/lib/python3.5/site-packages/pandas/core/frame.py\u001b[0m in \u001b[0;36m_getitem_array\u001b[0;34m(self, key)\u001b[0m\n\u001b[1;32m   2093\u001b[0m             \u001b[0;32mreturn\u001b[0m \u001b[0mself\u001b[0m\u001b[0;34m.\u001b[0m\u001b[0mtake\u001b[0m\u001b[0;34m(\u001b[0m\u001b[0mindexer\u001b[0m\u001b[0;34m,\u001b[0m \u001b[0maxis\u001b[0m\u001b[0;34m=\u001b[0m\u001b[0;36m0\u001b[0m\u001b[0;34m,\u001b[0m \u001b[0mconvert\u001b[0m\u001b[0;34m=\u001b[0m\u001b[0;32mFalse\u001b[0m\u001b[0;34m)\u001b[0m\u001b[0;34m\u001b[0m\u001b[0m\n\u001b[1;32m   2094\u001b[0m         \u001b[0;32melse\u001b[0m\u001b[0;34m:\u001b[0m\u001b[0;34m\u001b[0m\u001b[0m\n\u001b[0;32m-> 2095\u001b[0;31m             \u001b[0mindexer\u001b[0m \u001b[0;34m=\u001b[0m \u001b[0mself\u001b[0m\u001b[0;34m.\u001b[0m\u001b[0mix\u001b[0m\u001b[0;34m.\u001b[0m\u001b[0m_convert_to_indexer\u001b[0m\u001b[0;34m(\u001b[0m\u001b[0mkey\u001b[0m\u001b[0;34m,\u001b[0m \u001b[0maxis\u001b[0m\u001b[0;34m=\u001b[0m\u001b[0;36m1\u001b[0m\u001b[0;34m)\u001b[0m\u001b[0;34m\u001b[0m\u001b[0m\n\u001b[0m\u001b[1;32m   2096\u001b[0m             \u001b[0;32mreturn\u001b[0m \u001b[0mself\u001b[0m\u001b[0;34m.\u001b[0m\u001b[0mtake\u001b[0m\u001b[0;34m(\u001b[0m\u001b[0mindexer\u001b[0m\u001b[0;34m,\u001b[0m \u001b[0maxis\u001b[0m\u001b[0;34m=\u001b[0m\u001b[0;36m1\u001b[0m\u001b[0;34m,\u001b[0m \u001b[0mconvert\u001b[0m\u001b[0;34m=\u001b[0m\u001b[0;32mTrue\u001b[0m\u001b[0;34m)\u001b[0m\u001b[0;34m\u001b[0m\u001b[0m\n\u001b[1;32m   2097\u001b[0m \u001b[0;34m\u001b[0m\u001b[0m\n",
      "\u001b[0;32m/usr/lib/python3.5/site-packages/pandas/core/indexing.py\u001b[0m in \u001b[0;36m_convert_to_indexer\u001b[0;34m(self, obj, axis, is_setter)\u001b[0m\n\u001b[1;32m   1227\u001b[0m                 \u001b[0mmask\u001b[0m \u001b[0;34m=\u001b[0m \u001b[0mcheck\u001b[0m \u001b[0;34m==\u001b[0m \u001b[0;34m-\u001b[0m\u001b[0;36m1\u001b[0m\u001b[0;34m\u001b[0m\u001b[0m\n\u001b[1;32m   1228\u001b[0m                 \u001b[0;32mif\u001b[0m \u001b[0mmask\u001b[0m\u001b[0;34m.\u001b[0m\u001b[0many\u001b[0m\u001b[0;34m(\u001b[0m\u001b[0;34m)\u001b[0m\u001b[0;34m:\u001b[0m\u001b[0;34m\u001b[0m\u001b[0m\n\u001b[0;32m-> 1229\u001b[0;31m                     \u001b[0;32mraise\u001b[0m \u001b[0mKeyError\u001b[0m\u001b[0;34m(\u001b[0m\u001b[0;34m'%s not in index'\u001b[0m \u001b[0;34m%\u001b[0m \u001b[0mobjarr\u001b[0m\u001b[0;34m[\u001b[0m\u001b[0mmask\u001b[0m\u001b[0;34m]\u001b[0m\u001b[0;34m)\u001b[0m\u001b[0;34m\u001b[0m\u001b[0m\n\u001b[0m\u001b[1;32m   1230\u001b[0m \u001b[0;34m\u001b[0m\u001b[0m\n\u001b[1;32m   1231\u001b[0m                 \u001b[0;32mreturn\u001b[0m \u001b[0m_values_from_object\u001b[0m\u001b[0;34m(\u001b[0m\u001b[0mindexer\u001b[0m\u001b[0;34m)\u001b[0m\u001b[0;34m\u001b[0m\u001b[0m\n",
      "\u001b[0;31mKeyError\u001b[0m: \"['Exterior1st AsbShng' 'Exterior2nd AsbShng'] not in index\""
     ]
    }
   ],
   "source": [
    "# exteriör summary\n",
    "data['ExAsbShng'] = data[ [\"Exterior1st AsbShng\" , \"Exterior2nd AsbShng\"]].max(axis=1)\n",
    "del data['Exterior1st AsbShng']\n",
    "del data['Exterior2nd AsbShng']\n",
    "\n",
    "data['AsphShn'] = data[ [\"Exterior1st AsphShn\" , \"Exterior2nd AsphShn\"]].max(axis=1)\n",
    "del data['Exterior1st AsphShn']\n",
    "del data['Exterior2nd AsphShn']\n",
    "\n",
    "data['ExBrkComm'] = data[[\"Exterior1st BrkComm\" , \"Exterior2nd Brk Cmn\"]].max(axis=1)\n",
    "del data['Exterior1st BrkComm']\n",
    "del data['Exterior2nd Brk Cmn']\n",
    "\n",
    "data['ExBrkFace'] = data[[\"Exterior1st BrkFace\" , \"Exterior2nd BrkFace\"]].max(axis=1)\n",
    "del data['Exterior1st BrkFace']\n",
    "del data['Exterior2nd BrkFace']\n",
    "\n",
    "data['ExCBlock'] = data[[\"Exterior1st CBlock\" , \"Exterior2nd CBlock\"]].max(axis=1)\n",
    "del data['Exterior1st CBlock']\n",
    "del data['Exterior2nd CBlock']\n",
    "\n",
    "data['ExCemntBd'] = data[[\"Exterior1st CemntBd\" , \"Exterior2nd CmentBd\"]].max(axis=1)\n",
    "del data['Exterior1st CemntBd']\n",
    "del data['Exterior2nd CmentBd']\n",
    "\n",
    "data['ExHdBoard'] = data[[\"Exterior1st HdBoard\" , \"Exterior2nd HdBoard\"]].max(axis=1)\n",
    "del data['Exterior1st HdBoard']\n",
    "del data['Exterior2nd HdBoard']\n",
    "\n",
    "data['ExImStucc'] = data[[\"Exterior1st ImStucc\" , \"Exterior2nd ImStucc\"]].max(axis=1)\n",
    "del data['Exterior1st ImStucc']\n",
    "del data['Exterior2nd ImStucc']\n",
    "\n",
    "data['ExMetalSd'] = data[[\"Exterior1st MetalSd\" , \"Exterior2nd MetalSd\"]].max(axis=1)\n",
    "del data['Exterior1st MetalSd']\n",
    "del data['Exterior2nd MetalSd']\n",
    "\n",
    "data['ExPlywood'] = data[[\"Exterior1st Plywood\" , \"Exterior2nd Plywood\"]].max(axis=1)\n",
    "del data['Exterior1st Plywood']\n",
    "del data['Exterior2nd Plywood']\n",
    "\n",
    "data['ExStone'] = data[[\"Exterior1st Stone\" , \"Exterior2nd Stone\"]].max(axis=1)\n",
    "del data['Exterior1st Stone']\n",
    "del data['Exterior2nd Stone']\n",
    "\n",
    "data['ExStucco'] = data[[\"Exterior1st Stucco\" , \"Exterior2nd Stucco\"]].max(axis=1)\n",
    "del data['Exterior1st Stucco']\n",
    "del data['Exterior2nd Stucco']\n",
    "\n",
    "data['ExVinylSd'] = data[[\"Exterior1st VinylSd\" , \"Exterior2nd VinylSd\"]].max(axis=1)\n",
    "del data['Exterior1st VinylSd']\n",
    "del data['Exterior2nd VinylSd']\n",
    "\n",
    "data['ExWdSdng'] = data[[\"Exterior1st Wd Sdng\" , \"Exterior2nd Wd Sdng\"]].max(axis=1)\n",
    "del data['Exterior1st Wd Sdng']\n",
    "del data['Exterior2nd Wd Sdng']\n",
    "\n",
    "data['ExWdShng'] = data[[\"Exterior1st WdShing\" , \"Exterior2nd Wd Shng\"]].max(axis=1)\n",
    "del data['Exterior1st WdShing']\n",
    "del data['Exterior2nd Wd Shng']\n"
   ]
  },
  {
   "cell_type": "code",
   "execution_count": 398,
   "metadata": {
    "collapsed": true
   },
   "outputs": [],
   "source": [
    "\n",
    "\n",
    "#names = data.columns\n",
    "#sets = np.transpose(data.values)\n",
    "#corrvalues = np.corrcoef(sets)[0]\n",
    "#corr_set = pd.Series(-np.abs(corrvalues), names)\n",
    "#print(corr_set.sort_values())\n",
    "\n",
    "#chosen = corr_set.sort_values().head(75).index\n",
    "\n",
    "#data_neu = pd.DataFrame()\n",
    "\n",
    "#for item in chosen:\n",
    "#    data_neu[item] = data[item]\n",
    "        "
   ]
  },
  {
   "cell_type": "code",
   "execution_count": 399,
   "metadata": {
    "collapsed": false
   },
   "outputs": [],
   "source": [
    "train = data[0:lenght_train]\n",
    "test = data[lenght_train:]\n",
    "\n",
    "train.to_csv(\"cleaned_train.csv\")\n",
    "test.to_csv(\"cleaned_test.csv\")"
   ]
  }
 ],
 "metadata": {
  "anaconda-cloud": {},
  "kernelspec": {
   "display_name": "Python 3",
   "language": "python",
   "name": "python3"
  },
  "language_info": {
   "codemirror_mode": {
    "name": "ipython",
    "version": 3
   },
   "file_extension": ".py",
   "mimetype": "text/x-python",
   "name": "python",
   "nbconvert_exporter": "python",
   "pygments_lexer": "ipython3",
   "version": "3.5.2"
  }
 },
 "nbformat": 4,
 "nbformat_minor": 2
}
