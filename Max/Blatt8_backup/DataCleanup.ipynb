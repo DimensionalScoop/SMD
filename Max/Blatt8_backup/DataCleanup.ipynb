{
 "cells": [
  {
   "cell_type": "code",
   "execution_count": 98,
   "metadata": {
    "collapsed": true
   },
   "outputs": [],
   "source": [
    "import sklearn as sk\n",
    "import sklearn.covariance as cov\n",
    "import pandas as pd\n",
    "import numpy as np\n",
    "import ggplot as gg"
   ]
  },
  {
   "cell_type": "code",
   "execution_count": 99,
   "metadata": {
    "collapsed": true
   },
   "outputs": [],
   "source": [
    "import sklearn.preprocessing as pre\n",
    "from DataFrameImputer import DataFrameImputer"
   ]
  },
  {
   "cell_type": "code",
   "execution_count": 100,
   "metadata": {
    "collapsed": false
   },
   "outputs": [],
   "source": [
    "# Import and replace NaNs with most frequent value for labels and mean for numericals\n",
    "train_original = pd.DataFrame.from_csv(\"train.csv\")\n",
    "test_original = pd.DataFrame.from_csv(\"test.csv\")\n",
    "lenght_train = len(train_original)\n",
    "total = train_original.append(test_original)\n",
    "total['SalePrice'] = total['SalePrice'].fillna(value=0) # don't impute price of the test data\n",
    "\n",
    "total_dframe = DataFrameImputer().fit_transform(total)"
   ]
  },
  {
   "cell_type": "code",
   "execution_count": 101,
   "metadata": {
    "collapsed": false
   },
   "outputs": [
    {
     "name": "stdout",
     "output_type": "stream",
     "text": [
      "['Artery' 'Feedr' 'Norm' 'PosA' 'PosN' 'RRAe' 'RRAn' 'RRNe' 'RRNn'] ['Artery' 'Feedr' 'Norm' 'PosA' 'PosN' 'RRAe' 'RRAn' 'RRNn']\n"
     ]
    }
   ],
   "source": [
    "gg.ggplot(train_original, gg.aes(y='SalePrice',x='')) +  gg.geom_boxplot()"
   ]
  },
  {
   "cell_type": "code",
   "execution_count": 102,
   "metadata": {
    "collapsed": false
   },
   "outputs": [],
   "source": [
    "# Data Generation\n",
    "loudness_zoning = {'A': 1,#Agriculture\n",
    "       'C': 5,#Commercial\n",
    "       'C (all)': 5, #Fuck-up            \n",
    "       'FV': 3,#Floating Village Residential\n",
    "       'I': 7,#Industrial\n",
    "       'RH': 5,#Residential High Density\n",
    "       'RL': 4,#Residential Low Density\n",
    "       'RP': 2,#Residential Low Density Park \n",
    "       'RM': 5,#Residential Medium Density\n",
    "                 }\n",
    "\n",
    "loudness_condition = {\n",
    "    'Artery':4 ,   #Adjacent to arterial street\n",
    "       'Feedr':2 ,    # Adjacent to feeder street   \n",
    "       'Norm':0 ,     #  Normal \n",
    "       'RRNn':2 ,     #Within 200' of North-South Railroad\n",
    "       'RRAn':2 ,     #Adjacent to North-South Railroad\n",
    "       'PosN':-2 ,     #Near positive off-site feature--park, greenbelt, etc.\n",
    "       'PosA':-4 ,     #Adjacent to postive off-site feature\n",
    "       'RRNe':2 ,     #Within 200' of East-West Railroad\n",
    "       'RRAe':2 ,     #Adjacent to East-West Railroad\n",
    "}\n",
    "\n",
    "loudness_fence = {\n",
    "     'GdPrv': 1,\t#Good Privacy\n",
    "       'MnPrv': 0,\t#Minimum Privacy\n",
    "       'GdWo': 0,\t#Good Wood\n",
    "       'MnWw': 0,\t#Minimum Wood/Wire\n",
    "       'NA': 0,\t#No Fence\n",
    "}\n",
    "\n",
    "total_dframe['gen_loudness'] = total_dframe['Fence'].map(loudness_fence) + total_dframe['MSZoning'].map(loudness_zoning)+total_dframe['Condition1'].map(loudness_condition)+total_dframe['Condition2'].map(loudness_condition)"
   ]
  },
  {
   "cell_type": "code",
   "execution_count": 103,
   "metadata": {
    "collapsed": true
   },
   "outputs": [],
   "source": [
    "transportation_score = {\n",
    "     'Artery': 2,   #Adjacent to arterial street\n",
    "       'Feedr': 1,    # Adjacent to feeder street   \n",
    "       'Norm': 0,     #  Normal \n",
    "       'RRNn': 1,     #Within 200' of North-South Railroad\n",
    "       'RRAn': 2,     #Adjacent to North-South Railroad\n",
    "       'PosN': 0,     #Near positive off-site feature--park, greenbelt, etc.\n",
    "       'PosA': 0,     #Adjacent to postive off-site feature\n",
    "       'RRNe': 1,     #Within 200' of East-West Railroad\n",
    "       'RRAe': 2,     #Adjacent to East-West Railroad\n",
    "}\n",
    "total_dframe['gen_transport'] = total_dframe['Condition1'].map(transportation_score) + total_dframe['Condition2'].map(transportation_score)"
   ]
  },
  {
   "cell_type": "code",
   "execution_count": 104,
   "metadata": {
    "collapsed": true
   },
   "outputs": [],
   "source": [
    "type_score = {\n",
    "        'WD': 0, #Warranty Deed - Conventional\n",
    "       'CWD': 0,\t#Warranty Deed - Cash\n",
    "       'VWD': 0,\t#Warranty Deed - VA Loan\n",
    "       'New': 4,\t#Home just constructed and sold\n",
    "       'COD': 0,\t#Court Officer Deed/Estate\n",
    "       'Con': 2,\t#Contract 15% Down payment regular terms\n",
    "       'ConLw': 1,\t#Contract Low Down payment and low interest\n",
    "       'ConLI': 1,\t#Contract Low Interest\n",
    "       'ConLD': 1,\t#Contract Low Down\n",
    "       'Oth': 0,\t#Other\n",
    "}\n",
    "\n",
    "condition_score = {\n",
    "        'Normal': 0,\t#Normal Sale\n",
    "       'Abnorml': -1,\t#Abnormal Sale -  trade, foreclosure, short sale\n",
    "       'AdjLand':-1 ,\t#Adjoining Land Purchase\n",
    "       'Alloca': 0,\t#Allocation - two linked properties with separate deeds, typically condo with a garage unit\t\n",
    "       'Family': -1,\t#Sale between family members\n",
    "       'Partial': 2,\t#Home was not completed when last assessed (associated with New Homes)\n",
    "}\n",
    "\n",
    "total_dframe['gen_discount'] = total_dframe['SaleType'].map(type_score) + total_dframe['SaleCondition'].map(condition_score)"
   ]
  },
  {
   "cell_type": "code",
   "execution_count": 105,
   "metadata": {
    "collapsed": true
   },
   "outputs": [],
   "source": [
    "park_score = {\n",
    "     'Artery': -1,   #Adjacent to arterial street\n",
    "       'Feedr': -1,    # Adjacent to feeder street   \n",
    "       'Norm': 0,     #  Normal \n",
    "       'RRNn': 0,     #Within 200' of North-South Railroad\n",
    "       'RRAn': -1,     #Adjacent to North-South Railroad\n",
    "       'PosN': 1,     #Near positive off-site feature--park, greenbelt, etc.\n",
    "       'PosA': 2,     #Adjacent to postive off-site feature\n",
    "       'RRNe': 0,     #Within 200' of East-West Railroad\n",
    "       'RRAe': -1,     #Adjacent to East-West Railroad\n",
    "}\n",
    "\n",
    "total_dframe['gen_parkness'] = total_dframe['Condition1'].map(park_score) + total_dframe['Condition2'].map(park_score)"
   ]
  },
  {
   "cell_type": "code",
   "execution_count": 106,
   "metadata": {
    "collapsed": false
   },
   "outputs": [],
   "source": [
    "total_dframe['gen_total_porch'] = total_dframe['OpenPorchSF']*0.7 + total_dframe['EnclosedPorch']+ total_dframe['3SsnPorch']*1.2+total_dframe['ScreenPorch']"
   ]
  },
  {
   "cell_type": "code",
   "execution_count": 107,
   "metadata": {
    "collapsed": true
   },
   "outputs": [],
   "source": [
    "def ascending(set, na=None):\n",
    "    types = zip(set, range(1, len(set) + 1))\n",
    "\n",
    "    if na != None:  # if there is a 'not appllicable' classification, generate an array with a 'has' and 'label' quality\n",
    "        types = map(lambda x: [x[0], 1, x[1]], types)\n",
    "        types.append([na, 0, 0])\n",
    "\n",
    "    return dict(types)"
   ]
  },
  {
   "cell_type": "code",
   "execution_count": 108,
   "metadata": {
    "collapsed": true
   },
   "outputs": [],
   "source": [
    "# Label Properties\n",
    "unneccessary = ['TotalBsmtSF', 'TotRmsAbvGrd']\n",
    "\n",
    "special = ['MoSold', 'YrSold','SalePrice']\n",
    "\n",
    "already_numerical = ['LotFrontage', 'LotArea', 'YearBuilt', 'YearRemodAdd', 'MasVnrArea',\n",
    "                     'BsmtFinSF1', 'BsmtFinSF2', 'BsmtUnfSF', 'TotalBsmtSF', '1stFlrSF', '2ndFlrSF', \n",
    "                     'LowQualFinSF', 'GrLivArea', 'BsmtFullBath', 'BsmtHalfBath', 'FullBath', 'HalfBath', \n",
    "                     'BedroomAbvGr', 'KitchenAbvGr', 'TotRmsAbvGrd', 'Fireplaces', 'GarageYrBlt', 'GarageCars', \n",
    "                     'GarageArea', 'WoodDeckSF',\n",
    "                     'OpenPorchSF', 'EnclosedPorch', '3SsnPorch', 'ScreenPorch', 'PoolArea', 'MiscVal','OverallQual', 'OverallCond',\n",
    "                    'gen_discount','gen_transport','gen_loudness', 'gen_total_porch', 'gen_parkness']\n",
    "\n",
    "default = ['Ex', 'Gd', 'TA', 'Fa', 'Po']\n",
    "ordered = {\n",
    "    'LandContour': ['Low', 'Lvl', 'Bnk', 'HLS'],\n",
    "    'Utilities': ['AllPub', 'NoSewr', 'NoSeWa', 'ELO'],\n",
    "    'LandSlope': ['Gtl', 'Mod', 'Sev'],\n",
    "    'ExterQual': default,\n",
    "    'ExterCond': default,\n",
    "    'BsmtQual': default,  # has an NA\n",
    "    'BsmtCond': default,  # has an NA\n",
    "    'BsmtExposure': ['Gd', 'Av', 'Mn', 'No'],  # has an NA\n",
    "    'BsmtFinType1': ['GLQ', 'ALQ', 'BLQ', 'Rec', 'LwQ', 'Unf'],  # NA\n",
    "    'BsmtFinType2': ['GLQ', 'ALQ', 'BLQ', 'Rec', 'LwQ', 'Unf'],\n",
    "    'HeatingQC': default,\n",
    "    'KitchenQual': default,\n",
    "    'Functional': ['Typ', 'Min1', 'Min2', 'Mod', 'Maj1', 'Maj2', 'Sev', 'Sal'],\n",
    "    'FireplaceQu': default,  # NA\n",
    "    'GarageFinish': ['Fin', 'RFn', 'Unf'],  # NA\n",
    "    'GarageQual': default,  # NA\n",
    "    'GarageCond': default,  # NA\n",
    "    'PavedDrive': ['Y', 'P', 'N'],\n",
    "    'PoolQC': default,  # NA\n",
    "    'Fence': ['GdPrv', 'MnPrv', 'GdWo', 'MnWw', 'NA'],\n",
    "}\n",
    "\n",
    "unordered = ['MSSubClass', 'MSZoning', 'Street', 'Alley', 'LotShape', 'LotConfig', \n",
    "\n",
    "             'Neighborhood', 'Condition1', 'Condition2', 'BldgType', 'HouseStyle',\n",
    "             'RoofStyle', 'RoofMatl', 'Exterior1st', 'Exterior2nd', 'MasVnrType',\n",
    "             'Foundation', 'Heating', 'CentralAir', 'Electrical', 'GarageType', 'MiscFeature', 'SaleType', 'SaleCondition'\n",
    "             ]"
   ]
  },
  {
   "cell_type": "code",
   "execution_count": 109,
   "metadata": {
    "collapsed": false
   },
   "outputs": [],
   "source": [
    "# check for all colummns\n",
    "assert set.intersection(set(already_numerical),set(ordered.keys())) == set()\n",
    "assert set.intersection(set(unordered),set(ordered.keys())) == set()\n",
    "assert set.intersection(set(unordered),set(already_numerical)) == set()"
   ]
  },
  {
   "cell_type": "code",
   "execution_count": 110,
   "metadata": {
    "collapsed": false
   },
   "outputs": [],
   "source": [
    "all_columns = set(unneccessary + special + already_numerical + list(ordered.keys()) + unordered)\n",
    "assert all_columns.symmetric_difference(set(total_dframe.columns))==set()"
   ]
  },
  {
   "cell_type": "code",
   "execution_count": 111,
   "metadata": {
    "collapsed": true
   },
   "outputs": [],
   "source": [
    "data = pd.DataFrame()\n",
    "\n",
    "data['SalePrice'] = total_dframe['SalePrice'] # make price the first entry\n",
    "data['SellDate'] = total_dframe['YrSold']+total_dframe['MoSold']/12"
   ]
  },
  {
   "cell_type": "code",
   "execution_count": 112,
   "metadata": {
    "collapsed": true
   },
   "outputs": [],
   "source": [
    "for item in already_numerical:\n",
    "    data[item] = total_dframe[item]"
   ]
  },
  {
   "cell_type": "code",
   "execution_count": 113,
   "metadata": {
    "collapsed": false
   },
   "outputs": [],
   "source": [
    "for item in ordered: # enumerate keys\n",
    "    d = ascending(ordered[item])\n",
    "    data[item] = list(map(lambda x:d[x],total_dframe[item]))"
   ]
  },
  {
   "cell_type": "code",
   "execution_count": 114,
   "metadata": {
    "collapsed": false
   },
   "outputs": [],
   "source": [
    "lable_binarizer = dict()\n",
    "for item in unordered:\n",
    "    lb = pre.LabelBinarizer()\n",
    "    lable_binarizer[item] = lb #save for later decoding\n",
    "    \n",
    "    new_columns = lb.fit_transform(total_dframe[item])\n",
    "    for class_,content in zip(lb.classes_, new_columns.T):\n",
    "        data[item+\" \"+str(class_)] = content\n",
    "        "
   ]
  },
  {
   "cell_type": "code",
   "execution_count": 115,
   "metadata": {
    "collapsed": false
   },
   "outputs": [],
   "source": [
    "train = data[0:lenght_train]\n",
    "test = data[lenght_train:]\n",
    "\n",
    "train.to_csv(\"cleaned_train.csv\")\n",
    "test.to_csv(\"cleaned_test.csv\")"
   ]
  }
 ],
 "metadata": {
  "kernelspec": {
   "display_name": "Python 3",
   "language": "python",
   "name": "python3"
  },
  "language_info": {
   "codemirror_mode": {
    "name": "ipython",
    "version": 3
   },
   "file_extension": ".py",
   "mimetype": "text/x-python",
   "name": "python",
   "nbconvert_exporter": "python",
   "pygments_lexer": "ipython3",
   "version": "3.5.2"
  }
 },
 "nbformat": 4,
 "nbformat_minor": 2
}
