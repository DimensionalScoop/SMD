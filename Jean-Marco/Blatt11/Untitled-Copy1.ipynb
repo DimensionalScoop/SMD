{
 "cells": [
  {
   "cell_type": "code",
   "execution_count": 17,
   "metadata": {
    "collapsed": true
   },
   "outputs": [],
   "source": [
    "import numpy as np\n",
    "import matplotlib.pyplot as plt\n",
    "\n",
    "#a\n",
    "def create_matrix(e, n):\n",
    "    A = np.zeros((n,n))\n",
    "    for i in range(n):\n",
    "        if i==0:\n",
    "            A[0][0] = 1-e\n",
    "            A[0][1] = e\n",
    "        elif i==range(n)[-1]:\n",
    "            A[-1][-1] = 1-e\n",
    "            A[-1][-2] = e\n",
    "        else:\n",
    "            A[i][i-1] = e\n",
    "            A[i][i] = 1-2*e\n",
    "            A[i][i+1] = e\n",
    "    return A"
   ]
  },
  {
   "cell_type": "code",
   "execution_count": 18,
   "metadata": {
    "collapsed": false
   },
   "outputs": [],
   "source": [
    "#b\n",
    "A = create_matrix(0.23, 20)\n",
    "f = np.array([193,485,664,763,804,805,779,736,684,626,566,508,452,400,351,308,268,233,202,173])\n",
    "g = np.matmul(A,f)\n",
    "\n",
    "g_mess = np.zeros(20)\n",
    "for i in range(20):\n",
    "    g_mess[i] = np.random.poisson(g[i]) # Ermittle die \"Zufälligen\" Messfehler"
   ]
  },
  {
   "cell_type": "code",
   "execution_count": 19,
   "metadata": {
    "collapsed": false
   },
   "outputs": [
    {
     "name": "stdout",
     "output_type": "stream",
     "text": [
      "g ergibt sich zu:  [ 260.16  459.01  645.6   749.66  794.8   798.79  775.09  733.93  682.62\n",
      "  625.54  566.46  508.46  452.92  400.69  352.38  308.69  269.15  233.92\n",
      "  202.46  179.67] \n",
      "\n",
      "g_mess ergibt sich zu:  [ 232.  461.  674.  718.  779.  792.  765.  715.  666.  667.  573.  527.\n",
      "  442.  383.  354.  294.  258.  248.  227.  194.] \n",
      "\n"
     ]
    }
   ],
   "source": [
    "print(\"g ergibt sich zu: \", g, \"\\n\")\n",
    "print(\"g_mess ergibt sich zu: \", g_mess, \"\\n\")"
   ]
  },
  {
   "cell_type": "code",
   "execution_count": 20,
   "metadata": {
    "collapsed": true
   },
   "outputs": [],
   "source": [
    "#c\n",
    "eigens = np.linalg.eig(A) # Diagonalisiere die Matrix A\n",
    "D = np.diag(eigens[0]) # Matrix D enthält Eigenwerte auf Diagonale\n",
    "U = eigens[1] # Matrix U enthält Eigenvektoren als Spalten\n",
    "U_inv = np.linalg.inv(eigens[1])\n",
    "\n",
    "idx = np.argsort(-eigens[0]) # Sortiere die Eigenwerte absteigend!\n",
    "D_sorted = np.diag(eigens[0][idx]) # Ordne die Eigenwerte in D richtig an\n",
    "U_sorted = U[:, idx] # Ordne die Eigenvektoren in U richtig an\n",
    "U_sorted_inv = np.linalg.inv(U_sorted)\n"
   ]
  },
  {
   "cell_type": "code",
   "execution_count": 21,
   "metadata": {
    "collapsed": false
   },
   "outputs": [],
   "source": [
    "#d\n",
    "\n",
    "b = np.matmul(U_sorted_inv, f) # Ermittle b und c\n",
    "c = np.matmul(U_sorted_inv, g)\n",
    "\n",
    "V_f = np.diag(f) # Kovarianzmatrix wegen Poission\n",
    "V_b = np.matmul( U_sorted_inv, np.matmul( V_f, np.transpose(U_sorted_inv) ) ) # Transformiere mit BVB-Formel\n",
    "\n",
    "V_g_mess = np.diag(g_mess) # Kovarianzmatrix, wobei diesmal g_mess als Ausgang genommen wird\n",
    "L = np.matmul(np.linalg.inv(D_sorted), U_sorted_inv) # Matrix L transformiert von g in b, siehe Abgabe\n",
    "V_b_mess = np.matmul(L, np.matmul(V_g_mess, np.transpose(L))) # Transformiere von g_mess in b_mess mit BVB\n",
    "\n",
    "b_mess = np.matmul(L, g_mess)\n",
    "\n",
    "b_mess_norm = b_mess/np.sqrt(np.diagonal(V_b_mess)) # normiere b's auf Standardabweichung\n",
    "\n",
    "plt.clf()\n",
    "plt.plot(range(20), b_mess_norm, 'x')\n",
    "plt.plot(range(-1, 21), np.ones(22))\n",
    "plt.plot(range(-1, 21), -np.ones(22))\n",
    "plt.xlim(-1, 20)\n",
    "plt.xlabel(r'$\\mathrm{Index} j$')\n",
    "plt.ylabel(r'$\\frac{b_j}{\\sigma_j}$', rotation=0)\n",
    "plt.savefig('plot3a.pdf')"
   ]
  },
  {
   "cell_type": "code",
   "execution_count": 22,
   "metadata": {
    "collapsed": false
   },
   "outputs": [],
   "source": [
    "plt.clf() # Plotte aus Spaß die Koeffizienten b von der \"wahren\" und der \"verfälschten\" Messung\n",
    "plt.xlabel(r'$\\mathrm{Index} j$')\n",
    "plt.ylabel(r'$b_j$', rotation=0)\n",
    "plt.plot(range(20), b_mess, 'xb', label=r'$b_{mess}$')\n",
    "plt.plot(range(20), b, 'xr', label=r'$b$')\n",
    "plt.legend(loc='best')\n",
    "plt.savefig('plot3b.pdf')"
   ]
  },
  {
   "cell_type": "code",
   "execution_count": 23,
   "metadata": {
    "collapsed": false
   },
   "outputs": [],
   "source": [
    "plt.clf()\n",
    "f_mess = np.matmul(U_sorted, b_mess) # Führe entfaltetes b_mess in richtige Basis zurück\n",
    "L_ges = np.matmul(U, np.matmul(np.linalg.inv(D_sorted), U_sorted_inv)) # L_ges transformiert von g bis ganz nach f\n",
    "V_f_mess = np.matmul(L_ges, np.matmul(V_g_mess, np.transpose(L_ges))) # ermittle Kovarianzmatrix von f\n",
    "\n",
    "plt.xlabel(r'$\\mathrm{Index} j$')\n",
    "plt.ylabel(r'$f$', rotation=0)\n",
    "plt.errorbar(range(20), f_mess, yerr=np.sqrt(np.diagonal(V_f_mess)), fmt='o')\n",
    "plt.plot(range(20), f, \"xr\")\n",
    "plt.title(r\"Entfaltete Werte ohne Regularisierung\")\n",
    "plt.savefig('plot3c.pdf')"
   ]
  },
  {
   "cell_type": "code",
   "execution_count": 24,
   "metadata": {
    "collapsed": false
   },
   "outputs": [],
   "source": [
    "#e\n",
    "cutoff = 8\n",
    "\n",
    "D_sorted_reg = np.copy(D_sorted)\n",
    "D_sorted_reg_inv = np.linalg.inv(D_sorted_reg)\n",
    "for i in range(cutoff,20):\n",
    "    D_sorted_reg_inv[i][i] = 0 # setze ab Cutoff alle Diagonalelemente von D auf null\n",
    "    \n",
    "    \n",
    "b_mess_reg = np.matmul(D_sorted_reg_inv, np.matmul(U_sorted_inv, g_mess)) # entfalte g_mess mit Regularisiertem D\n",
    "\n",
    "f_mess_reg = np.matmul(U_sorted, b_mess_reg)\n",
    "\n",
    "L_ges_reg = np.matmul(U, np.matmul(np.linalg.inv(D_sorted_reg), U_sorted_inv)) # L transformiert g in f\n",
    "V_f_mess_reg = np.matmul(L_ges_reg, np.matmul(V_g_mess, np.transpose(L_ges_reg))) # bestimme Fehler von f\n",
    "\n",
    "plt.clf()\n",
    "plt.xlabel(r'$\\mathrm{Index} j$')\n",
    "plt.ylabel(r'$f$', rotation=0)\n",
    "plt.title(r\"Entfaltete Werte mit Cutoff bei j=8\")\n",
    "plt.errorbar(range(20), f_mess_reg, yerr=np.sqrt(np.diagonal(V_b)), fmt='o')\n",
    "plt.plot(range(20), f, \"xr\")\n",
    "plt.savefig('plot3d.pdf')"
   ]
  }
 ],
 "metadata": {
  "anaconda-cloud": {},
  "kernelspec": {
   "display_name": "Python [default]",
   "language": "python",
   "name": "python3"
  },
  "language_info": {
   "codemirror_mode": {
    "name": "ipython",
    "version": 3
   },
   "file_extension": ".py",
   "mimetype": "text/x-python",
   "name": "python",
   "nbconvert_exporter": "python",
   "pygments_lexer": "ipython3",
   "version": "3.5.2"
  }
 },
 "nbformat": 4,
 "nbformat_minor": 1
}
